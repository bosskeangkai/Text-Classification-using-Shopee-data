{
 "cells": [
  {
   "cell_type": "code",
   "execution_count": 25,
   "id": "924abb38-5275-431b-b635-6f03ea4b7371",
   "metadata": {},
   "outputs": [
    {
     "data": {
      "text/plain": [
       "30500"
      ]
     },
     "execution_count": 25,
     "metadata": {},
     "output_type": "execute_result"
    }
   ],
   "source": [
    "price='ขายแล้ว 30.5พัน ชิ้น'\n",
    "test=int(float(price.split()[1].replace('พัน','000'))*1000)\n",
    "test"
   ]
  },
  {
   "cell_type": "code",
   "execution_count": 8,
   "id": "d1d0658d-d796-49a4-a6fd-a76810c78ee1",
   "metadata": {},
   "outputs": [
    {
     "data": {
      "text/plain": [
       "str"
      ]
     },
     "execution_count": 8,
     "metadata": {},
     "output_type": "execute_result"
    }
   ],
   "source": [
    "type(test)"
   ]
  },
  {
   "cell_type": "code",
   "execution_count": 9,
   "id": "10ce03a7-2ab9-485d-a1ca-23e88edd4f80",
   "metadata": {},
   "outputs": [
    {
     "data": {
      "text/plain": [
       "'30.5พัน'"
      ]
     },
     "execution_count": 9,
     "metadata": {},
     "output_type": "execute_result"
    }
   ],
   "source": [
    "test"
   ]
  },
  {
   "cell_type": "code",
   "execution_count": 20,
   "id": "5d61a42a-c46f-4739-919e-c3e57f5151c4",
   "metadata": {},
   "outputs": [
    {
     "data": {
      "text/plain": [
       "30500.0"
      ]
     },
     "execution_count": 20,
     "metadata": {},
     "output_type": "execute_result"
    }
   ],
   "source": [
    "thousand=float(test.replace('พัน','000'))*1000\n",
    "thousand"
   ]
  },
  {
   "cell_type": "code",
   "execution_count": 11,
   "id": "7620abb3-15ce-41c0-911b-9e7063e77b1e",
   "metadata": {},
   "outputs": [
    {
     "data": {
      "text/plain": [
       "30500.0"
      ]
     },
     "execution_count": 11,
     "metadata": {},
     "output_type": "execute_result"
    }
   ],
   "source": [
    "30.5*1000"
   ]
  },
  {
   "cell_type": "code",
   "execution_count": 14,
   "id": "b07a672d-1e70-49d2-a846-5cb716d4d440",
   "metadata": {},
   "outputs": [
    {
     "data": {
      "text/plain": [
       "'30.5000'"
      ]
     },
     "execution_count": 14,
     "metadata": {},
     "output_type": "execute_result"
    }
   ],
   "source": [
    "thousand"
   ]
  },
  {
   "cell_type": "code",
   "execution_count": 18,
   "id": "0c30bf39-e467-48ad-b022-dd11b76ca3c7",
   "metadata": {},
   "outputs": [
    {
     "data": {
      "text/plain": [
       "30500.0"
      ]
     },
     "execution_count": 18,
     "metadata": {},
     "output_type": "execute_result"
    }
   ],
   "source": [
    "float(thousand)*1000"
   ]
  },
  {
   "cell_type": "code",
   "execution_count": 16,
   "id": "c0b281a1-5698-4b7d-96da-28263eee1c55",
   "metadata": {},
   "outputs": [
    {
     "data": {
      "text/plain": [
       "'30.5พัน'"
      ]
     },
     "execution_count": 16,
     "metadata": {},
     "output_type": "execute_result"
    }
   ],
   "source": [
    "test"
   ]
  },
  {
   "cell_type": "code",
   "execution_count": 31,
   "id": "58401f5c-2f28-4c02-b3ec-5567787ebb6c",
   "metadata": {},
   "outputs": [
    {
     "name": "stdout",
     "output_type": "stream",
     "text": [
      "ขายแล้ว 30.5000 ชิ้น\n"
     ]
    }
   ],
   "source": [
    "price='ขายแล้ว 30.5พัน ชิ้น'\n",
    "\n",
    "if price.find('พัน'):\n",
    "    print(price.replace('พัน','000'))\n"
   ]
  },
  {
   "cell_type": "code",
   "execution_count": 32,
   "id": "4265c3ac-bd99-4235-b653-c90692d505c9",
   "metadata": {},
   "outputs": [
    {
     "data": {
      "text/plain": [
       "4"
      ]
     },
     "execution_count": 32,
     "metadata": {},
     "output_type": "execute_result"
    }
   ],
   "source": [
    "num='50.2'\n",
    "len(num)"
   ]
  },
  {
   "cell_type": "code",
   "execution_count": 36,
   "id": "1c96859f-ab52-42fe-a05a-1f3f5c94da2e",
   "metadata": {},
   "outputs": [
    {
     "name": "stdout",
     "output_type": "stream",
     "text": [
      "กรุงเทพมหานคร\n"
     ]
    }
   ],
   "source": [
    "province='จังหวัดกรุงเทพมหานคร'\n",
    "\n",
    "if 'จังหวัด' in province:\n",
    "    no_prov=province.replace('จังหวัด','')\n",
    "    print(no_prov)"
   ]
  },
  {
   "cell_type": "code",
   "execution_count": 56,
   "id": "cc497cbc-bd0c-406f-aff1-484fea0dbd83",
   "metadata": {},
   "outputs": [],
   "source": [
    "prices='฿129 - ฿149'"
   ]
  },
  {
   "cell_type": "code",
   "execution_count": 72,
   "id": "6b8bb747-8045-4a88-8181-94973f96cda3",
   "metadata": {},
   "outputs": [
    {
     "data": {
      "text/plain": [
       "['฿129', '฿149']"
      ]
     },
     "execution_count": 72,
     "metadata": {},
     "output_type": "execute_result"
    }
   ],
   "source": [
    "splited_prices=prices.split(' - ')\n",
    "splited_prices"
   ]
  },
  {
   "cell_type": "code",
   "execution_count": null,
   "id": "a858363c-49fe-46e7-aa5c-63d8a3845dec",
   "metadata": {},
   "outputs": [],
   "source": []
  },
  {
   "cell_type": "code",
   "execution_count": 60,
   "id": "91355e94-d14e-42de-a793-f57aaa33ede6",
   "metadata": {},
   "outputs": [],
   "source": [
    "test1=[]\n",
    "test2=[]"
   ]
  },
  {
   "cell_type": "code",
   "execution_count": 68,
   "id": "e833ea0b-4be5-4be1-887a-29059bde02d2",
   "metadata": {},
   "outputs": [],
   "source": [
    "for i in splited_prices:\n",
    "    # var_p=int(i.replace('฿',''))\n",
    "    # if var_p.index\n",
    "    # print(var_p)\n",
    "    if splited_prices.index(i)%2==0:\n",
    "        var_p=int(i.replace('฿',''))\n",
    "        test1.append(var_p)\n",
    "    else:\n",
    "        var_p=int(i.replace('฿',''))\n",
    "        test2.append(var_p)"
   ]
  },
  {
   "cell_type": "code",
   "execution_count": 69,
   "id": "bc833f30-f450-45e2-946d-693c6422a90f",
   "metadata": {},
   "outputs": [
    {
     "data": {
      "text/plain": [
       "[129]"
      ]
     },
     "execution_count": 69,
     "metadata": {},
     "output_type": "execute_result"
    }
   ],
   "source": [
    "test1"
   ]
  },
  {
   "cell_type": "code",
   "execution_count": 70,
   "id": "9200c426-b6a5-49ca-990d-a484bdff3bfb",
   "metadata": {},
   "outputs": [
    {
     "data": {
      "text/plain": [
       "[149]"
      ]
     },
     "execution_count": 70,
     "metadata": {},
     "output_type": "execute_result"
    }
   ],
   "source": [
    "test2"
   ]
  },
  {
   "cell_type": "code",
   "execution_count": null,
   "id": "16d589d0-e90f-49fa-90c2-8e0317224b15",
   "metadata": {},
   "outputs": [],
   "source": [
    "'.*(^฿\\d[0-9]{0,3})'"
   ]
  },
  {
   "cell_type": "code",
   "execution_count": 1,
   "id": "368aa007-62fd-41f2-949f-c94b962133b6",
   "metadata": {},
   "outputs": [],
   "source": [
    "import re"
   ]
  },
  {
   "cell_type": "code",
   "execution_count": 11,
   "id": "441304b4-979e-4166-9c9b-d2e345b1c1fd",
   "metadata": {
    "tags": []
   },
   "outputs": [],
   "source": [
    "patt3=re.findall('.*(^฿\\d[0-9]{0,3}\\฿)',pat3)"
   ]
  },
  {
   "cell_type": "code",
   "execution_count": 2,
   "id": "9793a12d-cece-448d-b00f-27cde93bf793",
   "metadata": {},
   "outputs": [
    {
     "ename": "NameError",
     "evalue": "name 'patt3' is not defined",
     "output_type": "error",
     "traceback": [
      "\u001b[1;31m---------------------------------------------------------------------------\u001b[0m",
      "\u001b[1;31mNameError\u001b[0m                                 Traceback (most recent call last)",
      "Input \u001b[1;32mIn [2]\u001b[0m, in \u001b[0;36m<cell line: 1>\u001b[1;34m()\u001b[0m\n\u001b[1;32m----> 1\u001b[0m \u001b[43mpatt3\u001b[49m\n",
      "\u001b[1;31mNameError\u001b[0m: name 'patt3' is not defined"
     ]
    }
   ],
   "source": [
    "patt3"
   ]
  },
  {
   "cell_type": "code",
   "execution_count": 14,
   "id": "6f75f95a-09a2-496f-ba09-37ded0a1aeeb",
   "metadata": {},
   "outputs": [
    {
     "ename": "AttributeError",
     "evalue": "'list' object has no attribute 'replace'",
     "output_type": "error",
     "traceback": [
      "\u001b[1;31m---------------------------------------------------------------------------\u001b[0m",
      "\u001b[1;31mAttributeError\u001b[0m                            Traceback (most recent call last)",
      "Input \u001b[1;32mIn [14]\u001b[0m, in \u001b[0;36m<cell line: 1>\u001b[1;34m()\u001b[0m\n\u001b[1;32m----> 1\u001b[0m \u001b[43mpatt3\u001b[49m\u001b[38;5;241;43m.\u001b[39;49m\u001b[43mreplace\u001b[49m(\u001b[38;5;124m'\u001b[39m\u001b[38;5;124m฿\u001b[39m\u001b[38;5;124m'\u001b[39m,\u001b[38;5;124m'\u001b[39m\u001b[38;5;124m'\u001b[39m,\u001b[38;5;241m0\u001b[39m)\n\u001b[0;32m      2\u001b[0m patt3\n",
      "\u001b[1;31mAttributeError\u001b[0m: 'list' object has no attribute 'replace'"
     ]
    }
   ],
   "source": [
    "patt3.replace('฿','',0)\n",
    "patt3"
   ]
  },
  {
   "cell_type": "code",
   "execution_count": 15,
   "id": "9db64a50-14cf-4927-b397-235c3fa18e4e",
   "metadata": {},
   "outputs": [
    {
     "name": "stdout",
     "output_type": "stream",
     "text": [
      "฿149฿129\n"
     ]
    }
   ],
   "source": [
    "for i in patt3:\n",
    "    print(i)"
   ]
  },
  {
   "cell_type": "code",
   "execution_count": 25,
   "id": "63bad9df-f8d4-4d1a-b001-876c575c5e21",
   "metadata": {},
   "outputs": [
    {
     "data": {
      "text/plain": [
       "'฿149฿129'"
      ]
     },
     "execution_count": 25,
     "metadata": {},
     "output_type": "execute_result"
    }
   ],
   "source": [
    "test_4=patt3[0]\n",
    "test_4"
   ]
  },
  {
   "cell_type": "code",
   "execution_count": 22,
   "id": "d9aab50e-2aa8-4ffc-afa1-de3de6cc3e58",
   "metadata": {},
   "outputs": [
    {
     "data": {
      "text/plain": [
       "['149', '129']"
      ]
     },
     "execution_count": 22,
     "metadata": {},
     "output_type": "execute_result"
    }
   ],
   "source": [
    "(re.sub(r'^.','',test_4)).split('฿')"
   ]
  },
  {
   "cell_type": "code",
   "execution_count": 37,
   "id": "f1067031-136f-4a07-8092-1f0b7eb3ce8f",
   "metadata": {},
   "outputs": [
    {
     "name": "stdout",
     "output_type": "stream",
     "text": [
      "['149', '129']\n",
      "['150', '128']\n",
      "['14', '15']\n",
      "[149, 150, 14]\n",
      "[129, 128, 15]\n"
     ]
    }
   ],
   "source": [
    "price1_list=[]\n",
    "price2_list=[]\n",
    "\n",
    "patt3=['฿149฿129','฿150฿128','฿14฿15']\n",
    "for i in patt3:\n",
    "    pattern3=(re.findall('.*(^฿\\d[0-9]{0,3}\\฿\\d[0-9]{0,3})',i))[0]\n",
    "    pattern3_split=re.sub(r'^.','',pattern3).split('฿')\n",
    "    print(pattern3_split)\n",
    "    for i in pattern3_split:\n",
    "        if  pattern3_split.index(i)%2==0:\n",
    "            pattern3_1st=int(i)\n",
    "            price1_list.append(pattern3_1st)\n",
    "        else:\n",
    "            pattern3_2nd=int(i)\n",
    "            price2_list.append(pattern3_2nd)\n",
    "print(price1_list)\n",
    "print(price2_list)"
   ]
  },
  {
   "cell_type": "code",
   "execution_count": 36,
   "id": "7e9bfa0a-4ba2-4b90-8217-3dc18494e899",
   "metadata": {},
   "outputs": [
    {
     "data": {
      "text/plain": [
       "[149, 150, 14]"
      ]
     },
     "execution_count": 36,
     "metadata": {},
     "output_type": "execute_result"
    }
   ],
   "source": [
    "price1_list"
   ]
  },
  {
   "cell_type": "code",
   "execution_count": 7,
   "id": "c28d8403-2b9a-4eb5-9d1b-0fe39f4fba62",
   "metadata": {},
   "outputs": [],
   "source": [
    "import pandas as pd\n",
    "import re"
   ]
  },
  {
   "cell_type": "code",
   "execution_count": 8,
   "id": "a7283d2c-ca6d-468d-a005-e80c18d35a6d",
   "metadata": {},
   "outputs": [
    {
     "data": {
      "text/html": [
       "<div>\n",
       "<style scoped>\n",
       "    .dataframe tbody tr th:only-of-type {\n",
       "        vertical-align: middle;\n",
       "    }\n",
       "\n",
       "    .dataframe tbody tr th {\n",
       "        vertical-align: top;\n",
       "    }\n",
       "\n",
       "    .dataframe thead th {\n",
       "        text-align: right;\n",
       "    }\n",
       "</style>\n",
       "<table border=\"1\" class=\"dataframe\">\n",
       "  <thead>\n",
       "    <tr style=\"text-align: right;\">\n",
       "      <th></th>\n",
       "      <th>describe_product</th>\n",
       "      <th>price</th>\n",
       "      <th>sold_out</th>\n",
       "      <th>province</th>\n",
       "    </tr>\n",
       "  </thead>\n",
       "  <tbody>\n",
       "    <tr>\n",
       "      <th>0</th>\n",
       "      <td>(ลูกค้าใหม่ 1 บาท) เสื้อ+กางเกงขาสั้น ผ้าเบา ไ...</td>\n",
       "      <td>฿129 - ฿149</td>\n",
       "      <td>ขายแล้ว 43พัน ชิ้น</td>\n",
       "      <td>จังหวัดกรุงเทพมหานคร</td>\n",
       "    </tr>\n",
       "    <tr>\n",
       "      <th>1</th>\n",
       "      <td>เด็กชุดแขนสั้นผ้าฝ้ายฤดูร้อนชายฤดูร้อนเสื้อผ้า...</td>\n",
       "      <td>฿198</td>\n",
       "      <td>NaN</td>\n",
       "      <td>จังหวัดชุมพร</td>\n",
       "    </tr>\n",
       "    <tr>\n",
       "      <th>2</th>\n",
       "      <td>ใส่ก็ผอม เสื้อกล้ามผู้ชาย (S-XXXL) รัดหน้าท้อง...</td>\n",
       "      <td>฿378฿189</td>\n",
       "      <td>ขายแล้ว 32 ชิ้น</td>\n",
       "      <td>จังหวัดสมุทรปราการ</td>\n",
       "    </tr>\n",
       "    <tr>\n",
       "      <th>3</th>\n",
       "      <td>ชุดสูทแขนสั้นผู้ชายฤดูร้อนปี 2022 ใหม่ลำลองสำห...</td>\n",
       "      <td>฿755</td>\n",
       "      <td>NaN</td>\n",
       "      <td>จังหวัดกำแพงเพชร</td>\n",
       "    </tr>\n",
       "    <tr>\n",
       "      <th>4</th>\n",
       "      <td>เสื้อผ้าเด็กผู้หญิง(เดรส​/รอม​ วินเทจ)​โค้ดลด ...</td>\n",
       "      <td>฿1,290</td>\n",
       "      <td>NaN</td>\n",
       "      <td>จังหวัดนนทบุรี</td>\n",
       "    </tr>\n",
       "  </tbody>\n",
       "</table>\n",
       "</div>"
      ],
      "text/plain": [
       "                                    describe_product        price  \\\n",
       "0  (ลูกค้าใหม่ 1 บาท) เสื้อ+กางเกงขาสั้น ผ้าเบา ไ...  ฿129 - ฿149   \n",
       "1  เด็กชุดแขนสั้นผ้าฝ้ายฤดูร้อนชายฤดูร้อนเสื้อผ้า...         ฿198   \n",
       "2  ใส่ก็ผอม เสื้อกล้ามผู้ชาย (S-XXXL) รัดหน้าท้อง...     ฿378฿189   \n",
       "3  ชุดสูทแขนสั้นผู้ชายฤดูร้อนปี 2022 ใหม่ลำลองสำห...         ฿755   \n",
       "4  เสื้อผ้าเด็กผู้หญิง(เดรส​/รอม​ วินเทจ)​โค้ดลด ...       ฿1,290   \n",
       "\n",
       "             sold_out              province  \n",
       "0  ขายแล้ว 43พัน ชิ้น  จังหวัดกรุงเทพมหานคร  \n",
       "1                 NaN          จังหวัดชุมพร  \n",
       "2     ขายแล้ว 32 ชิ้น    จังหวัดสมุทรปราการ  \n",
       "3                 NaN      จังหวัดกำแพงเพชร  \n",
       "4                 NaN        จังหวัดนนทบุรี  "
      ]
     },
     "execution_count": 8,
     "metadata": {},
     "output_type": "execute_result"
    }
   ],
   "source": [
    "raw_data=pd.read_csv('./shopee_web_scraping/raw_data_shirt_shopee.csv',encoding='utf-8')\n",
    "raw_data.head(5)"
   ]
  },
  {
   "cell_type": "code",
   "execution_count": 15,
   "id": "691da4b3-c839-4f9d-bc90-cfac6fbcd575",
   "metadata": {
    "collapsed": true,
    "jupyter": {
     "outputs_hidden": true
    },
    "tags": []
   },
   "outputs": [
    {
     "ename": "ValueError",
     "evalue": "Length of values (484) does not match length of index (900)",
     "output_type": "error",
     "traceback": [
      "\u001b[1;31m---------------------------------------------------------------------------\u001b[0m",
      "\u001b[1;31mValueError\u001b[0m                                Traceback (most recent call last)",
      "Input \u001b[1;32mIn [15]\u001b[0m, in \u001b[0;36m<cell line: 39>\u001b[1;34m()\u001b[0m\n\u001b[0;32m     36\u001b[0m         price2_list\u001b[38;5;241m.\u001b[39mappend(duplicate_patt2)\n\u001b[0;32m     38\u001b[0m raw_data\u001b[38;5;241m.\u001b[39minsert(\u001b[38;5;241m2\u001b[39m,\u001b[38;5;124m'\u001b[39m\u001b[38;5;124mfirst_price\u001b[39m\u001b[38;5;124m'\u001b[39m,price1_list)\n\u001b[1;32m---> 39\u001b[0m \u001b[43mraw_data\u001b[49m\u001b[38;5;241;43m.\u001b[39;49m\u001b[43minsert\u001b[49m\u001b[43m(\u001b[49m\u001b[38;5;241;43m3\u001b[39;49m\u001b[43m,\u001b[49m\u001b[38;5;124;43m'\u001b[39;49m\u001b[38;5;124;43msecond_price\u001b[39;49m\u001b[38;5;124;43m'\u001b[39;49m\u001b[43m,\u001b[49m\u001b[43mprice2_list\u001b[49m\u001b[43m)\u001b[49m\n\u001b[0;32m     40\u001b[0m raw_data\u001b[38;5;241m.\u001b[39mhead(\u001b[38;5;241m20\u001b[39m)\n",
      "File \u001b[1;32m~\\anaconda3\\lib\\site-packages\\pandas\\core\\frame.py:4444\u001b[0m, in \u001b[0;36mDataFrame.insert\u001b[1;34m(self, loc, column, value, allow_duplicates)\u001b[0m\n\u001b[0;32m   4441\u001b[0m \u001b[38;5;28;01mif\u001b[39;00m \u001b[38;5;129;01mnot\u001b[39;00m \u001b[38;5;28misinstance\u001b[39m(loc, \u001b[38;5;28mint\u001b[39m):\n\u001b[0;32m   4442\u001b[0m     \u001b[38;5;28;01mraise\u001b[39;00m \u001b[38;5;167;01mTypeError\u001b[39;00m(\u001b[38;5;124m\"\u001b[39m\u001b[38;5;124mloc must be int\u001b[39m\u001b[38;5;124m\"\u001b[39m)\n\u001b[1;32m-> 4444\u001b[0m value \u001b[38;5;241m=\u001b[39m \u001b[38;5;28;43mself\u001b[39;49m\u001b[38;5;241;43m.\u001b[39;49m\u001b[43m_sanitize_column\u001b[49m\u001b[43m(\u001b[49m\u001b[43mvalue\u001b[49m\u001b[43m)\u001b[49m\n\u001b[0;32m   4445\u001b[0m \u001b[38;5;28mself\u001b[39m\u001b[38;5;241m.\u001b[39m_mgr\u001b[38;5;241m.\u001b[39minsert(loc, column, value)\n",
      "File \u001b[1;32m~\\anaconda3\\lib\\site-packages\\pandas\\core\\frame.py:4535\u001b[0m, in \u001b[0;36mDataFrame._sanitize_column\u001b[1;34m(self, value)\u001b[0m\n\u001b[0;32m   4532\u001b[0m     \u001b[38;5;28;01mreturn\u001b[39;00m _reindex_for_setitem(value, \u001b[38;5;28mself\u001b[39m\u001b[38;5;241m.\u001b[39mindex)\n\u001b[0;32m   4534\u001b[0m \u001b[38;5;28;01mif\u001b[39;00m is_list_like(value):\n\u001b[1;32m-> 4535\u001b[0m     \u001b[43mcom\u001b[49m\u001b[38;5;241;43m.\u001b[39;49m\u001b[43mrequire_length_match\u001b[49m\u001b[43m(\u001b[49m\u001b[43mvalue\u001b[49m\u001b[43m,\u001b[49m\u001b[43m \u001b[49m\u001b[38;5;28;43mself\u001b[39;49m\u001b[38;5;241;43m.\u001b[39;49m\u001b[43mindex\u001b[49m\u001b[43m)\u001b[49m\n\u001b[0;32m   4536\u001b[0m \u001b[38;5;28;01mreturn\u001b[39;00m sanitize_array(value, \u001b[38;5;28mself\u001b[39m\u001b[38;5;241m.\u001b[39mindex, copy\u001b[38;5;241m=\u001b[39m\u001b[38;5;28;01mTrue\u001b[39;00m, allow_2d\u001b[38;5;241m=\u001b[39m\u001b[38;5;28;01mTrue\u001b[39;00m)\n",
      "File \u001b[1;32m~\\anaconda3\\lib\\site-packages\\pandas\\core\\common.py:557\u001b[0m, in \u001b[0;36mrequire_length_match\u001b[1;34m(data, index)\u001b[0m\n\u001b[0;32m    553\u001b[0m \u001b[38;5;124;03m\"\"\"\u001b[39;00m\n\u001b[0;32m    554\u001b[0m \u001b[38;5;124;03mCheck the length of data matches the length of the index.\u001b[39;00m\n\u001b[0;32m    555\u001b[0m \u001b[38;5;124;03m\"\"\"\u001b[39;00m\n\u001b[0;32m    556\u001b[0m \u001b[38;5;28;01mif\u001b[39;00m \u001b[38;5;28mlen\u001b[39m(data) \u001b[38;5;241m!=\u001b[39m \u001b[38;5;28mlen\u001b[39m(index):\n\u001b[1;32m--> 557\u001b[0m     \u001b[38;5;28;01mraise\u001b[39;00m \u001b[38;5;167;01mValueError\u001b[39;00m(\n\u001b[0;32m    558\u001b[0m         \u001b[38;5;124m\"\u001b[39m\u001b[38;5;124mLength of values \u001b[39m\u001b[38;5;124m\"\u001b[39m\n\u001b[0;32m    559\u001b[0m         \u001b[38;5;124mf\u001b[39m\u001b[38;5;124m\"\u001b[39m\u001b[38;5;124m(\u001b[39m\u001b[38;5;132;01m{\u001b[39;00m\u001b[38;5;28mlen\u001b[39m(data)\u001b[38;5;132;01m}\u001b[39;00m\u001b[38;5;124m) \u001b[39m\u001b[38;5;124m\"\u001b[39m\n\u001b[0;32m    560\u001b[0m         \u001b[38;5;124m\"\u001b[39m\u001b[38;5;124mdoes not match length of index \u001b[39m\u001b[38;5;124m\"\u001b[39m\n\u001b[0;32m    561\u001b[0m         \u001b[38;5;124mf\u001b[39m\u001b[38;5;124m\"\u001b[39m\u001b[38;5;124m(\u001b[39m\u001b[38;5;132;01m{\u001b[39;00m\u001b[38;5;28mlen\u001b[39m(index)\u001b[38;5;132;01m}\u001b[39;00m\u001b[38;5;124m)\u001b[39m\u001b[38;5;124m\"\u001b[39m\n\u001b[0;32m    562\u001b[0m     )\n",
      "\u001b[1;31mValueError\u001b[0m: Length of values (484) does not match length of index (900)"
     ]
    }
   ],
   "source": [
    "price1_list=[]\n",
    "price2_list=[]\n",
    "test_append_3=[]\n",
    "several_price=raw_data['price']\n",
    "for pattern in several_price:\n",
    "    # pattern 1 :฿129 - ฿149\n",
    "    if '-' in pattern:\n",
    "        splited_price=pattern.split(' - ')\n",
    "        for i in splited_price:\n",
    "            if splited_price.index(i)%2==0:\n",
    "                pattern1_1st=int(i.replace('฿',''))\n",
    "                price1_list.append(pattern1_1st)\n",
    "            else:\n",
    "                pattern1_2nd=int(i.replace('฿',''))\n",
    "                price2_list.append(pattern1_2nd)\n",
    "                \n",
    "    # pattern 2 :฿149฿129\n",
    "    elif pattern.count('฿')>1 and '-' not in pattern:# return list ['฿149฿129']\n",
    "        # pattern3=(re.findall(r'.*(^฿\\d[0-9]{0,3}\\฿\\d[0-9]{0,3})',pattern))\n",
    "        pattern3=(pattern)\n",
    "        pattern3_split=(re.sub(r'^.','',pattern3)[0].split('฿'))\n",
    "        for i in pattern3_split:\n",
    "            if  pattern3_split.index(i)%2==0:\n",
    "                pattern3_1st=(i)\n",
    "                price1_list.append(pattern3_1st)\n",
    "            else:\n",
    "                pattern3_2nd=(i)\n",
    "                price2_list.append(pattern3_2nd)\n",
    "\n",
    "    # pattern 3 :฿129\n",
    "    else:\n",
    "        pattern=re.findall('.*(^฿\\d[0-9]{0,3})',pattern)\n",
    "        pattern2=int(pattern[0].replace('฿',''))\n",
    "        duplicate_patt2=pattern2\n",
    "        price1_list.append(pattern2)\n",
    "        price2_list.append(duplicate_patt2)\n",
    "        \n",
    "raw_data.insert(2,'first_price',price1_list)\n",
    "raw_data.insert(3,'second_price',price2_list)\n",
    "raw_data.head(20)"
   ]
  },
  {
   "cell_type": "code",
   "execution_count": 13,
   "id": "fcaef272-eabc-45f3-b474-69659f0e8dc1",
   "metadata": {
    "collapsed": true,
    "jupyter": {
     "outputs_hidden": true
    },
    "tags": []
   },
   "outputs": [
    {
     "data": {
      "text/plain": [
       "[434,\n",
       " 1,\n",
       " 136,\n",
       " 177,\n",
       " 48,\n",
       " 55,\n",
       " 790,\n",
       " 48,\n",
       " 200,\n",
       " 119,\n",
       " 990,\n",
       " 45,\n",
       " 179,\n",
       " 169,\n",
       " 45,\n",
       " 990,\n",
       " 48,\n",
       " 48,\n",
       " 59,\n",
       " 212]"
      ]
     },
     "execution_count": 13,
     "metadata": {},
     "output_type": "execute_result"
    }
   ],
   "source": [
    "price2_list[320:340]"
   ]
  },
  {
   "cell_type": "code",
   "execution_count": 88,
   "id": "ba52a221-e859-45c7-b488-71e937c5f11e",
   "metadata": {
    "tags": []
   },
   "outputs": [
    {
     "data": {
      "text/plain": [
       "[['฿378฿189']]"
      ]
     },
     "execution_count": 88,
     "metadata": {},
     "output_type": "execute_result"
    }
   ],
   "source": [
    "test_append_3"
   ]
  },
  {
   "cell_type": "code",
   "execution_count": 79,
   "id": "54a05f2c-8fd1-4b8b-bb4c-4794b03bf4b2",
   "metadata": {},
   "outputs": [],
   "source": [
    "test_string='฿149฿129'\n",
    "\n",
    "\n",
    "pattern_test=(re.findall(r'.*(^฿\\d[0-9]{0,3}\\฿\\d[0-9]{0,3})',test_string))"
   ]
  },
  {
   "cell_type": "code",
   "execution_count": 80,
   "id": "5c7cb211-5218-4faa-b197-78a083d45c6b",
   "metadata": {},
   "outputs": [
    {
     "data": {
      "text/plain": [
       "['฿149฿129']"
      ]
     },
     "execution_count": 80,
     "metadata": {},
     "output_type": "execute_result"
    }
   ],
   "source": [
    "pattern_test"
   ]
  },
  {
   "cell_type": "code",
   "execution_count": 109,
   "id": "862c45d6-e65c-4aba-b787-b2b875807d29",
   "metadata": {},
   "outputs": [
    {
     "data": {
      "text/plain": [
       "[149, 198, 755, 1, 149, 184, 215, 139, 390, 190]"
      ]
     },
     "execution_count": 109,
     "metadata": {},
     "output_type": "execute_result"
    }
   ],
   "source": [
    "price2_list[0:10]"
   ]
  },
  {
   "cell_type": "code",
   "execution_count": 110,
   "id": "5613e2e1-c88a-47ed-a57c-6b98c82f7fa5",
   "metadata": {},
   "outputs": [
    {
     "data": {
      "text/plain": [
       "[129, 198, '', 755, 1, 129, '', 124, 155, '']"
      ]
     },
     "execution_count": 110,
     "metadata": {},
     "output_type": "execute_result"
    }
   ],
   "source": [
    "price1_list[0:10]"
   ]
  },
  {
   "cell_type": "code",
   "execution_count": 5,
   "id": "20c7a8e1-4b04-4699-b004-c4aebb22a535",
   "metadata": {},
   "outputs": [
    {
     "data": {
      "text/plain": [
       "'1200'"
      ]
     },
     "execution_count": 5,
     "metadata": {},
     "output_type": "execute_result"
    }
   ],
   "source": [
    "test='1,200'\n",
    "test2=test.replace(',','')\n",
    "test2"
   ]
  },
  {
   "cell_type": "code",
   "execution_count": 20,
   "id": "6a117b07-27d2-435d-9c9c-018e0309d164",
   "metadata": {},
   "outputs": [],
   "source": [
    "# elif pattern.count('฿')==2 and '-' not in pattern:# return list ['฿149฿129']\n",
    "p1=[]\n",
    "p2=[]\n",
    "pattern=['฿1,490฿1,290','฿2,500฿1,500']\n",
    "\n",
    "for i in pattern:\n",
    "    pattern3_split=re.sub(r'^.','',i).split('฿')\n",
    "    if ',' in pattern3:\n",
    "        remove_comma=pattern3_split.replace(',','')\n",
    "        if  pattern3_split.index(i)%2==0:\n",
    "            pattern3_1st=(remove_comma)\n",
    "            p1.append(pattern3_1st)\n",
    "        else:\n",
    "            pattern3_2nd=(remove_comma)\n",
    "            p2.append(pattern3_2nd)\n",
    "    else:\n",
    "        if  pattern.index(i)%2==0:\n",
    "            pattern3_1st=(i)\n",
    "            p1.append(pattern3_1st)\n",
    "        else:\n",
    "            pattern3_2nd=(i)\n",
    "            p2.append(pattern3_2nd)"
   ]
  },
  {
   "cell_type": "code",
   "execution_count": 21,
   "id": "a1c5bd6a-5d67-44ff-9c68-43ca8279fd0a",
   "metadata": {},
   "outputs": [
    {
     "data": {
      "text/plain": [
       "['฿1,490฿1,290']"
      ]
     },
     "execution_count": 21,
     "metadata": {},
     "output_type": "execute_result"
    }
   ],
   "source": [
    "p1"
   ]
  },
  {
   "cell_type": "code",
   "execution_count": 22,
   "id": "24a5b67a-d9be-47f5-a5ff-bcacfe7e7e5e",
   "metadata": {
    "tags": []
   },
   "outputs": [
    {
     "data": {
      "text/plain": [
       "['฿2,500฿1,500']"
      ]
     },
     "execution_count": 22,
     "metadata": {},
     "output_type": "execute_result"
    }
   ],
   "source": [
    "p2"
   ]
  },
  {
   "cell_type": "code",
   "execution_count": null,
   "id": "67277e5a-690a-4092-a565-d823bb085a09",
   "metadata": {},
   "outputs": [],
   "source": []
  }
 ],
 "metadata": {
  "kernelspec": {
   "display_name": "Python 3 (ipykernel)",
   "language": "python",
   "name": "python3"
  },
  "language_info": {
   "codemirror_mode": {
    "name": "ipython",
    "version": 3
   },
   "file_extension": ".py",
   "mimetype": "text/x-python",
   "name": "python",
   "nbconvert_exporter": "python",
   "pygments_lexer": "ipython3",
   "version": "3.9.12"
  }
 },
 "nbformat": 4,
 "nbformat_minor": 5
}
