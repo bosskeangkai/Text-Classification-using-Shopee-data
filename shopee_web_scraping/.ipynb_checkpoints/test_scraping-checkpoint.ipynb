{
 "cells": [
  {
   "cell_type": "code",
   "execution_count": 1,
   "id": "3a4ea031-b55f-404c-8433-b702f49efefc",
   "metadata": {},
   "outputs": [],
   "source": [
    "from selenium import webdriver\n",
    "from selenium.webdriver.chrome.options import Options\n",
    "from selenium.webdriver.common.keys import Keys\n",
    "\n",
    "from bs4 import BeautifulSoup\n",
    "import pandas as pd\n",
    "import time\n",
    "import re"
   ]
  },
  {
   "cell_type": "code",
   "execution_count": 2,
   "id": "df40abf9-dc91-4e8a-9d72-e5822d7d59a9",
   "metadata": {},
   "outputs": [
    {
     "name": "stderr",
     "output_type": "stream",
     "text": [
      "C:\\Users\\Keangkai\\AppData\\Local\\Temp\\ipykernel_7712\\128643097.py:1: DeprecationWarning: executable_path has been deprecated, please pass in a Service object\n",
      "  driver=webdriver.Chrome(executable_path=r'C:\\Users\\Keangkai\\Desktop\\dev\\side_project\\Shopee_web_scraping\\chromedriver_win32\\chromedriver')\n"
     ]
    }
   ],
   "source": [
    "driver=webdriver.Chrome(executable_path=r'C:\\Users\\Keangkai\\Desktop\\dev\\side_project\\Shopee_web_scraping\\chromedriver_win32\\chromedriver')\n",
    "driver.get(\"https://shopee.co.th/\")"
   ]
  },
  {
   "cell_type": "code",
   "execution_count": 3,
   "id": "f45808c1-77f6-4bcc-ae1e-1b8fc669e760",
   "metadata": {},
   "outputs": [],
   "source": [
    "thai_button=driver.find_element('xpath','//*[@id=\"modal\"]/div[1]/div[1]/div/div[3]/div[1]/button')\n",
    "thai_button.click()"
   ]
  },
  {
   "cell_type": "code",
   "execution_count": 4,
   "id": "eeee9d4a-ab00-41af-bbc5-a6ca2ad9eedf",
   "metadata": {},
   "outputs": [],
   "source": [
    "close_ads=driver.execute_script('return document.querySelector(\"shopee-banner-popup-stateful\").shadowRoot.querySelector(\"div.shopee-popup__close-btn\")')\n",
    "close_ads.click()"
   ]
  },
  {
   "cell_type": "code",
   "execution_count": 5,
   "id": "0dd4e391-a234-403d-bde4-089868c9bdac",
   "metadata": {},
   "outputs": [],
   "source": [
    "search=driver.find_element('xpath','//*[@id=\"main\"]/div/header/div[2]/div/div[1]/div[1]/div/form/input')\n",
    "search.send_keys('เสื้อผ้าผู้ชาย') # change to global variable\n",
    "search.send_keys(Keys.ENTER)"
   ]
  },
  {
   "cell_type": "code",
   "execution_count": 6,
   "id": "36d705aa-158e-4df5-aa5a-fe1650dba658",
   "metadata": {},
   "outputs": [],
   "source": [
    "driver.execute_script('document.body.style.zoom=\"10%\"')"
   ]
  },
  {
   "cell_type": "code",
   "execution_count": 7,
   "id": "5afaab17-5c7f-4afc-b32d-91b61cf414b1",
   "metadata": {},
   "outputs": [],
   "source": [
    "raw_data=driver.page_source\n",
    "soup=BeautifulSoup(raw_data)"
   ]
  },
  {
   "cell_type": "code",
   "execution_count": 9,
   "id": "df6c1fd5-da16-4316-9786-e3e33579d022",
   "metadata": {
    "collapsed": true,
    "jupyter": {
     "outputs_hidden": true
    },
    "tags": []
   },
   "outputs": [
    {
     "data": {
      "text/plain": [
       "[<span class=\"ZEgDH9\">129</span>,\n",
       " <span class=\"ZEgDH9\">149</span>,\n",
       " <span class=\"ZEgDH9\">189</span>,\n",
       " <span class=\"ZEgDH9\">159</span>,\n",
       " <span class=\"ZEgDH9\">219</span>,\n",
       " <span class=\"ZEgDH9\">125</span>,\n",
       " <span class=\"ZEgDH9\">185</span>,\n",
       " <span class=\"ZEgDH9\">755</span>,\n",
       " <span class=\"ZEgDH9\">39</span>,\n",
       " <span class=\"ZEgDH9\">49</span>,\n",
       " <span class=\"ZEgDH9\">225</span>,\n",
       " <span class=\"ZEgDH9\">351</span>,\n",
       " <span class=\"ZEgDH9\">195</span>,\n",
       " <span class=\"ZEgDH9\">94</span>,\n",
       " <span class=\"ZEgDH9\">128</span>,\n",
       " <span class=\"ZEgDH9\">129</span>,\n",
       " <span class=\"ZEgDH9\">119</span>,\n",
       " <span class=\"ZEgDH9\">125</span>,\n",
       " <span class=\"ZEgDH9\">75</span>,\n",
       " <span class=\"ZEgDH9\">99</span>,\n",
       " <span class=\"ZEgDH9\">88</span>,\n",
       " <span class=\"ZEgDH9\">149</span>,\n",
       " <span class=\"ZEgDH9\">149</span>,\n",
       " <span class=\"ZEgDH9\">32</span>,\n",
       " <span class=\"ZEgDH9\">62</span>,\n",
       " <span class=\"ZEgDH9\">94</span>,\n",
       " <span class=\"ZEgDH9\">149</span>,\n",
       " <span class=\"ZEgDH9\">343</span>,\n",
       " <span class=\"ZEgDH9\">390</span>,\n",
       " <span class=\"ZEgDH9\">138</span>,\n",
       " <span class=\"ZEgDH9\">123</span>,\n",
       " <span class=\"ZEgDH9\">116</span>,\n",
       " <span class=\"ZEgDH9\">126</span>,\n",
       " <span class=\"ZEgDH9\">75</span>,\n",
       " <span class=\"ZEgDH9\">73</span>,\n",
       " <span class=\"ZEgDH9\">36</span>,\n",
       " <span class=\"ZEgDH9\">55</span>,\n",
       " <span class=\"ZEgDH9\">129</span>,\n",
       " <span class=\"ZEgDH9\">200</span>,\n",
       " <span class=\"ZEgDH9\">149</span>,\n",
       " <span class=\"ZEgDH9\">89</span>,\n",
       " <span class=\"ZEgDH9\">95</span>,\n",
       " <span class=\"ZEgDH9\">74</span>,\n",
       " <span class=\"ZEgDH9\">59</span>,\n",
       " <span class=\"ZEgDH9\">79</span>,\n",
       " <span class=\"ZEgDH9\">99</span>,\n",
       " <span class=\"ZEgDH9\">129</span>,\n",
       " <span class=\"ZEgDH9\">35</span>,\n",
       " <span class=\"ZEgDH9\">62</span>,\n",
       " <span class=\"ZEgDH9\">104</span>,\n",
       " <span class=\"ZEgDH9\">128</span>,\n",
       " <span class=\"ZEgDH9\">116</span>,\n",
       " <span class=\"ZEgDH9\">92</span>,\n",
       " <span class=\"ZEgDH9\">25</span>,\n",
       " <span class=\"ZEgDH9\">48</span>,\n",
       " <span class=\"ZEgDH9\">74</span>,\n",
       " <span class=\"ZEgDH9\">213</span>,\n",
       " <span class=\"ZEgDH9\">240</span>,\n",
       " <span class=\"ZEgDH9\">25</span>,\n",
       " <span class=\"ZEgDH9\">48</span>,\n",
       " <span class=\"ZEgDH9\">75</span>,\n",
       " <span class=\"ZEgDH9\">87</span>,\n",
       " <span class=\"ZEgDH9\">200</span>,\n",
       " <span class=\"ZEgDH9\">26</span>,\n",
       " <span class=\"ZEgDH9\">45</span>,\n",
       " <span class=\"ZEgDH9\">245</span>,\n",
       " <span class=\"ZEgDH9\">249</span>,\n",
       " <span class=\"ZEgDH9\">75</span>,\n",
       " <span class=\"ZEgDH9\">129</span>,\n",
       " <span class=\"ZEgDH9\">139</span>,\n",
       " <span class=\"ZEgDH9\">149</span>,\n",
       " <span class=\"ZEgDH9\">167</span>,\n",
       " <span class=\"ZEgDH9\">188</span>,\n",
       " <span class=\"ZEgDH9\">250</span>,\n",
       " <span class=\"ZEgDH9\">98</span>,\n",
       " <span class=\"ZEgDH9\">195</span>,\n",
       " <span class=\"ZEgDH9\">182</span>,\n",
       " <span class=\"ZEgDH9\">208</span>,\n",
       " <span class=\"ZEgDH9\">232</span>,\n",
       " <span class=\"ZEgDH9\">170</span>,\n",
       " <span class=\"ZEgDH9\">170</span>,\n",
       " <span class=\"ZEgDH9\">232</span>]"
      ]
     },
     "execution_count": 9,
     "metadata": {},
     "output_type": "execute_result"
    }
   ],
   "source": [
    "product_price=soup.find_all('span',{'class':'ZEgDH9'})\n",
    "product_price"
   ]
  },
  {
   "cell_type": "code",
   "execution_count": 10,
   "id": "3d2a8469-4f24-45ab-b6ee-1ea507255367",
   "metadata": {
    "collapsed": true,
    "jupyter": {
     "outputs_hidden": true
    },
    "tags": []
   },
   "outputs": [
    {
     "data": {
      "text/plain": [
       "[<div class=\"vioxXd rVLWG6\"><span class=\"recFju\">฿</span><span class=\"ZEgDH9\">129</span> - <span class=\"recFju\">฿</span><span class=\"ZEgDH9\">149</span></div>,\n",
       " <div class=\"vioxXd rVLWG6\"><span class=\"recFju\">฿</span><span class=\"ZEgDH9\">189</span></div>,\n",
       " <div class=\"vioxXd rVLWG6\"><span class=\"recFju\">฿</span><span class=\"ZEgDH9\">159</span> - <span class=\"recFju\">฿</span><span class=\"ZEgDH9\">219</span></div>,\n",
       " <div class=\"vioxXd rVLWG6\"><span class=\"recFju\">฿</span><span class=\"ZEgDH9\">125</span> - <span class=\"recFju\">฿</span><span class=\"ZEgDH9\">185</span></div>,\n",
       " <div class=\"vioxXd rVLWG6\"><span class=\"recFju\">฿</span><span class=\"ZEgDH9\">755</span></div>,\n",
       " <div class=\"vioxXd rVLWG6\"><span class=\"recFju\">฿</span><span class=\"ZEgDH9\">39</span> - <span class=\"recFju\">฿</span><span class=\"ZEgDH9\">49</span></div>,\n",
       " <div class=\"vioxXd rVLWG6\"><span class=\"recFju\">฿</span><span class=\"ZEgDH9\">225</span> - <span class=\"recFju\">฿</span><span class=\"ZEgDH9\">351</span></div>,\n",
       " <div class=\"vioxXd rVLWG6\"><span class=\"recFju\">฿</span><span class=\"ZEgDH9\">195</span></div>,\n",
       " <div class=\"vioxXd rVLWG6\"><span class=\"recFju\">฿</span><span class=\"ZEgDH9\">94</span></div>,\n",
       " <div class=\"vioxXd rVLWG6\" style=\"max-width: calc(100% - 22px);\"><span class=\"recFju\">฿</span><span class=\"ZEgDH9\">128</span></div>,\n",
       " <div class=\"vioxXd rVLWG6\" style=\"max-width: calc(100% - 22px);\"><span class=\"recFju\">฿</span><span class=\"ZEgDH9\">129</span></div>,\n",
       " <div class=\"vioxXd rVLWG6\"><span class=\"recFju\">฿</span><span class=\"ZEgDH9\">119</span> - <span class=\"recFju\">฿</span><span class=\"ZEgDH9\">125</span></div>,\n",
       " <div class=\"vioxXd rVLWG6\"><span class=\"recFju\">฿</span><span class=\"ZEgDH9\">75</span></div>,\n",
       " <div class=\"vioxXd rVLWG6\"><span class=\"recFju\">฿</span><span class=\"ZEgDH9\">99</span></div>,\n",
       " <div class=\"vioxXd rVLWG6\"><span class=\"recFju\">฿</span><span class=\"ZEgDH9\">88</span></div>,\n",
       " <div class=\"vioxXd rVLWG6\"><span class=\"recFju\">฿</span><span class=\"ZEgDH9\">149</span></div>,\n",
       " <div class=\"vioxXd rVLWG6\"><span class=\"recFju\">฿</span><span class=\"ZEgDH9\">149</span></div>,\n",
       " <div class=\"vioxXd rVLWG6\"><span class=\"recFju\">฿</span><span class=\"ZEgDH9\">32</span> - <span class=\"recFju\">฿</span><span class=\"ZEgDH9\">62</span></div>,\n",
       " <div class=\"vioxXd rVLWG6\"><span class=\"recFju\">฿</span><span class=\"ZEgDH9\">94</span></div>,\n",
       " <div class=\"vioxXd rVLWG6\"><span class=\"recFju\">฿</span><span class=\"ZEgDH9\">149</span></div>,\n",
       " <div class=\"vioxXd rVLWG6\"><span class=\"recFju\">฿</span><span class=\"ZEgDH9\">343</span> - <span class=\"recFju\">฿</span><span class=\"ZEgDH9\">390</span></div>,\n",
       " <div class=\"vioxXd rVLWG6\"><span class=\"recFju\">฿</span><span class=\"ZEgDH9\">138</span></div>,\n",
       " <div class=\"vioxXd rVLWG6\"><span class=\"recFju\">฿</span><span class=\"ZEgDH9\">123</span></div>,\n",
       " <div class=\"vioxXd rVLWG6\"><span class=\"recFju\">฿</span><span class=\"ZEgDH9\">116</span></div>,\n",
       " <div class=\"vioxXd rVLWG6\"><span class=\"recFju\">฿</span><span class=\"ZEgDH9\">126</span></div>,\n",
       " <div class=\"vioxXd rVLWG6\"><span class=\"recFju\">฿</span><span class=\"ZEgDH9\">75</span></div>,\n",
       " <div class=\"vioxXd rVLWG6\"><span class=\"recFju\">฿</span><span class=\"ZEgDH9\">73</span></div>,\n",
       " <div class=\"vioxXd rVLWG6\"><span class=\"recFju\">฿</span><span class=\"ZEgDH9\">36</span> - <span class=\"recFju\">฿</span><span class=\"ZEgDH9\">55</span></div>,\n",
       " <div class=\"vioxXd rVLWG6\"><span class=\"recFju\">฿</span><span class=\"ZEgDH9\">129</span></div>,\n",
       " <div class=\"vioxXd rVLWG6\"><span class=\"recFju\">฿</span><span class=\"ZEgDH9\">200</span></div>,\n",
       " <div class=\"vioxXd rVLWG6\"><span class=\"recFju\">฿</span><span class=\"ZEgDH9\">149</span></div>,\n",
       " <div class=\"vioxXd rVLWG6\"><span class=\"recFju\">฿</span><span class=\"ZEgDH9\">89</span> - <span class=\"recFju\">฿</span><span class=\"ZEgDH9\">95</span></div>,\n",
       " <div class=\"vioxXd rVLWG6\"><span class=\"recFju\">฿</span><span class=\"ZEgDH9\">74</span></div>,\n",
       " <div class=\"vioxXd rVLWG6\"><span class=\"recFju\">฿</span><span class=\"ZEgDH9\">59</span> - <span class=\"recFju\">฿</span><span class=\"ZEgDH9\">79</span></div>,\n",
       " <div class=\"vioxXd rVLWG6\"><span class=\"recFju\">฿</span><span class=\"ZEgDH9\">99</span> - <span class=\"recFju\">฿</span><span class=\"ZEgDH9\">129</span></div>,\n",
       " <div class=\"vioxXd rVLWG6\"><span class=\"recFju\">฿</span><span class=\"ZEgDH9\">35</span> - <span class=\"recFju\">฿</span><span class=\"ZEgDH9\">62</span></div>,\n",
       " <div class=\"vioxXd rVLWG6\"><span class=\"recFju\">฿</span><span class=\"ZEgDH9\">104</span> - <span class=\"recFju\">฿</span><span class=\"ZEgDH9\">128</span></div>,\n",
       " <div class=\"vioxXd rVLWG6\"><span class=\"recFju\">฿</span><span class=\"ZEgDH9\">116</span></div>,\n",
       " <div class=\"vioxXd rVLWG6\"><span class=\"recFju\">฿</span><span class=\"ZEgDH9\">92</span></div>,\n",
       " <div class=\"vioxXd rVLWG6\"><span class=\"recFju\">฿</span><span class=\"ZEgDH9\">25</span> - <span class=\"recFju\">฿</span><span class=\"ZEgDH9\">48</span></div>,\n",
       " <div class=\"vioxXd rVLWG6\"><span class=\"recFju\">฿</span><span class=\"ZEgDH9\">74</span></div>,\n",
       " <div class=\"vioxXd rVLWG6\"><span class=\"recFju\">฿</span><span class=\"ZEgDH9\">213</span> - <span class=\"recFju\">฿</span><span class=\"ZEgDH9\">240</span></div>,\n",
       " <div class=\"vioxXd rVLWG6\"><span class=\"recFju\">฿</span><span class=\"ZEgDH9\">25</span> - <span class=\"recFju\">฿</span><span class=\"ZEgDH9\">48</span></div>,\n",
       " <div class=\"vioxXd rVLWG6\"><span class=\"recFju\">฿</span><span class=\"ZEgDH9\">75</span></div>,\n",
       " <div class=\"vioxXd rVLWG6\"><span class=\"recFju\">฿</span><span class=\"ZEgDH9\">87</span></div>,\n",
       " <div class=\"vioxXd rVLWG6\"><span class=\"recFju\">฿</span><span class=\"ZEgDH9\">200</span></div>,\n",
       " <div class=\"vioxXd rVLWG6\"><span class=\"recFju\">฿</span><span class=\"ZEgDH9\">26</span> - <span class=\"recFju\">฿</span><span class=\"ZEgDH9\">45</span></div>,\n",
       " <div class=\"vioxXd rVLWG6\"><span class=\"recFju\">฿</span><span class=\"ZEgDH9\">245</span> - <span class=\"recFju\">฿</span><span class=\"ZEgDH9\">249</span></div>,\n",
       " <div class=\"vioxXd rVLWG6\"><span class=\"recFju\">฿</span><span class=\"ZEgDH9\">75</span></div>,\n",
       " <div class=\"vioxXd rVLWG6\"><span class=\"recFju\">฿</span><span class=\"ZEgDH9\">129</span> - <span class=\"recFju\">฿</span><span class=\"ZEgDH9\">139</span></div>,\n",
       " <div class=\"vioxXd rVLWG6\"><span class=\"recFju\">฿</span><span class=\"ZEgDH9\">149</span></div>,\n",
       " <div class=\"vioxXd rVLWG6\"><span class=\"recFju\">฿</span><span class=\"ZEgDH9\">167</span> - <span class=\"recFju\">฿</span><span class=\"ZEgDH9\">188</span></div>,\n",
       " <div class=\"vioxXd rVLWG6\"><span class=\"recFju\">฿</span><span class=\"ZEgDH9\">250</span></div>,\n",
       " <div class=\"vioxXd rVLWG6\"><span class=\"recFju\">฿</span><span class=\"ZEgDH9\">98</span></div>,\n",
       " <div class=\"vioxXd rVLWG6\"><span class=\"recFju\">฿</span><span class=\"ZEgDH9\">195</span></div>,\n",
       " <div class=\"vioxXd rVLWG6\"><span class=\"recFju\">฿</span><span class=\"ZEgDH9\">182</span> - <span class=\"recFju\">฿</span><span class=\"ZEgDH9\">208</span></div>,\n",
       " <div class=\"vioxXd rVLWG6\"><span class=\"recFju\">฿</span><span class=\"ZEgDH9\">232</span></div>,\n",
       " <div class=\"vioxXd rVLWG6\"><span class=\"recFju\">฿</span><span class=\"ZEgDH9\">170</span></div>,\n",
       " <div class=\"vioxXd rVLWG6\"><span class=\"recFju\">฿</span><span class=\"ZEgDH9\">170</span></div>,\n",
       " <div class=\"vioxXd rVLWG6\"><span class=\"recFju\">฿</span><span class=\"ZEgDH9\">232</span></div>]"
      ]
     },
     "execution_count": 10,
     "metadata": {},
     "output_type": "execute_result"
    }
   ],
   "source": [
    "test_price=soup.find_all('div',{'class':'vioxXd rVLWG6'})\n",
    "test_price"
   ]
  },
  {
   "cell_type": "code",
   "execution_count": 11,
   "id": "83ab7f7d-c9cf-4f13-b24a-397610527698",
   "metadata": {
    "collapsed": true,
    "jupyter": {
     "outputs_hidden": true
    },
    "tags": []
   },
   "outputs": [
    {
     "data": {
      "text/plain": [
       "['฿129 - ฿149',\n",
       " '฿189',\n",
       " '฿159 - ฿219',\n",
       " '฿125 - ฿185',\n",
       " '฿755',\n",
       " '฿39 - ฿49',\n",
       " '฿225 - ฿351',\n",
       " '฿195',\n",
       " '฿94',\n",
       " '฿128',\n",
       " '฿129',\n",
       " '฿119 - ฿125',\n",
       " '฿75',\n",
       " '฿99',\n",
       " '฿88',\n",
       " '฿149',\n",
       " '฿149',\n",
       " '฿32 - ฿62',\n",
       " '฿94',\n",
       " '฿149',\n",
       " '฿343 - ฿390',\n",
       " '฿138',\n",
       " '฿123',\n",
       " '฿116',\n",
       " '฿126',\n",
       " '฿75',\n",
       " '฿73',\n",
       " '฿36 - ฿55',\n",
       " '฿129',\n",
       " '฿200',\n",
       " '฿149',\n",
       " '฿89 - ฿95',\n",
       " '฿74',\n",
       " '฿59 - ฿79',\n",
       " '฿99 - ฿129',\n",
       " '฿35 - ฿62',\n",
       " '฿104 - ฿128',\n",
       " '฿116',\n",
       " '฿92',\n",
       " '฿25 - ฿48',\n",
       " '฿74',\n",
       " '฿213 - ฿240',\n",
       " '฿25 - ฿48',\n",
       " '฿75',\n",
       " '฿87',\n",
       " '฿200',\n",
       " '฿26 - ฿45',\n",
       " '฿245 - ฿249',\n",
       " '฿75',\n",
       " '฿129 - ฿139',\n",
       " '฿149',\n",
       " '฿167 - ฿188',\n",
       " '฿250',\n",
       " '฿98',\n",
       " '฿195',\n",
       " '฿182 - ฿208',\n",
       " '฿232',\n",
       " '฿170',\n",
       " '฿170',\n",
       " '฿232']"
      ]
     },
     "execution_count": 11,
     "metadata": {},
     "output_type": "execute_result"
    }
   ],
   "source": [
    "test_last=[]\n",
    "for p in test_price:\n",
    "    test_last.append(p.text)\n",
    "test_last"
   ]
  },
  {
   "cell_type": "code",
   "execution_count": 12,
   "id": "39660094-9a63-4b49-98cc-ee66322467f8",
   "metadata": {
    "collapsed": true,
    "jupyter": {
     "outputs_hidden": true
    },
    "tags": []
   },
   "outputs": [
    {
     "data": {
      "text/plain": [
       "['฿129 - ฿149',\n",
       " '฿189',\n",
       " '฿159 - ฿219',\n",
       " '฿125 - ฿185',\n",
       " '฿755',\n",
       " '฿39 - ฿49',\n",
       " '฿225 - ฿351',\n",
       " '฿195',\n",
       " '฿94',\n",
       " '฿128',\n",
       " '฿129',\n",
       " '฿119 - ฿125',\n",
       " '฿75',\n",
       " '฿99',\n",
       " '฿88',\n",
       " '฿149',\n",
       " '฿149',\n",
       " '฿32 - ฿62',\n",
       " '฿94',\n",
       " '฿149',\n",
       " '฿343 - ฿390',\n",
       " '฿138',\n",
       " '฿123',\n",
       " '฿116',\n",
       " '฿126',\n",
       " '฿75',\n",
       " '฿73',\n",
       " '฿36 - ฿55',\n",
       " '฿129',\n",
       " '฿200',\n",
       " '฿149',\n",
       " '฿89 - ฿95',\n",
       " '฿74',\n",
       " '฿59 - ฿79',\n",
       " '฿99 - ฿129',\n",
       " '฿35 - ฿62',\n",
       " '฿104 - ฿128',\n",
       " '฿116',\n",
       " '฿92',\n",
       " '฿25 - ฿48',\n",
       " '฿74',\n",
       " '฿213 - ฿240',\n",
       " '฿25 - ฿48',\n",
       " '฿75',\n",
       " '฿87',\n",
       " '฿200',\n",
       " '฿26 - ฿45',\n",
       " '฿245 - ฿249',\n",
       " '฿75',\n",
       " '฿129 - ฿139',\n",
       " '฿149',\n",
       " '฿167 - ฿188',\n",
       " '฿250',\n",
       " '฿98',\n",
       " '฿195',\n",
       " '฿182 - ฿208',\n",
       " '฿232',\n",
       " '฿170',\n",
       " '฿170',\n",
       " '฿232']"
      ]
     },
     "execution_count": 12,
     "metadata": {},
     "output_type": "execute_result"
    }
   ],
   "source": [
    "second_test=[]\n",
    "for prices in test_price:\n",
    "    second_test.append(prices.text)\n",
    "second_test"
   ]
  },
  {
   "cell_type": "code",
   "execution_count": 14,
   "id": "da417926-bfe4-42f3-92ed-0a77810c3fae",
   "metadata": {
    "collapsed": true,
    "jupyter": {
     "outputs_hidden": true
    },
    "tags": []
   },
   "outputs": [
    {
     "data": {
      "text/plain": [
       "['฿129 - ฿149',\n",
       " '฿189',\n",
       " '฿159 - ฿219',\n",
       " '฿125 - ฿185',\n",
       " '฿755',\n",
       " '฿39 - ฿49',\n",
       " '฿225 - ฿351',\n",
       " '฿195',\n",
       " '฿94',\n",
       " '฿128',\n",
       " '฿129',\n",
       " '฿119 - ฿125',\n",
       " '฿75',\n",
       " '฿99',\n",
       " '฿88',\n",
       " '฿149',\n",
       " '฿149',\n",
       " '฿32 - ฿62',\n",
       " '฿94',\n",
       " '฿149',\n",
       " '฿343 - ฿390',\n",
       " '฿138',\n",
       " '฿123',\n",
       " '฿116',\n",
       " '฿126',\n",
       " '฿75',\n",
       " '฿73',\n",
       " '฿36 - ฿55',\n",
       " '฿129',\n",
       " '฿200',\n",
       " '฿149',\n",
       " '฿89 - ฿95',\n",
       " '฿74',\n",
       " '฿59 - ฿79',\n",
       " '฿99 - ฿129',\n",
       " '฿35 - ฿62',\n",
       " '฿104 - ฿128',\n",
       " '฿116',\n",
       " '฿92',\n",
       " '฿25 - ฿48',\n",
       " '฿74',\n",
       " '฿213 - ฿240',\n",
       " '฿25 - ฿48',\n",
       " '฿75',\n",
       " '฿87',\n",
       " '฿200',\n",
       " '฿26 - ฿45',\n",
       " '฿245 - ฿249',\n",
       " '฿75',\n",
       " '฿129 - ฿139',\n",
       " '฿149',\n",
       " '฿167 - ฿188',\n",
       " '฿250',\n",
       " '฿98',\n",
       " '฿195',\n",
       " '฿182 - ฿208',\n",
       " '฿232',\n",
       " '฿170',\n",
       " '฿170',\n",
       " '฿232']"
      ]
     },
     "execution_count": 14,
     "metadata": {},
     "output_type": "execute_result"
    }
   ],
   "source": [
    "third_test=[]\n",
    "for t in test_price:\n",
    "    third_test.append(t.text)\n",
    "third_test"
   ]
  },
  {
   "cell_type": "code",
   "execution_count": 23,
   "id": "5977e051-b5fe-47b8-816d-20a0933644d7",
   "metadata": {
    "collapsed": true,
    "jupyter": {
     "outputs_hidden": true
    },
    "tags": []
   },
   "outputs": [
    {
     "data": {
      "text/plain": [
       "[<div class=\"dpiR4u\" data-sqe=\"name\"><div class=\"FDn--+\"><div class=\"ie3A+n bM+7UW Cve6sh\">(ลูกค้าใหม่ 1 บาท) เสื้อ+กางเกงขาสั้น ผ้าเบา ไม่หด ไม่ย้วย เสื้อยืดคอกลมสีพื้น ชุดกีฬาผู้ชาย ชุด</div></div><div class=\"FD2XVZ\"><div class=\"WQj5Si\">ซื้อ 2 ชิ้น ลด ฿5</div></div></div>,\n",
       " <div class=\"dpiR4u\" data-sqe=\"name\"><div class=\"FDn--+\"><div class=\"ie3A+n bM+7UW Cve6sh\">เสื้อผ้าเด็กผู้หญิง(เดรส​/รอม​ วินเทจ)​</div></div><div class=\"FD2XVZ\"><div class=\"_1PWkR nt-medium nt-foot _3nkRL\" style=\"color: rgb(246, 145, 19);\"><svg class=\"_2DRZW _2xFcL\" viewbox=\"-0.5 -0.5 4 16\"><path d=\"M4 0h-3q-1 0 -1 1a1.2 1.5 0 0 1 0 3v0.333a1.2 1.5 0 0 1 0 3v0.333a1.2 1.5 0 0 1 0 3v0.333a1.2 1.5 0 0 1 0 3q0 1 1 1h3\" fill=\"#f69113\" stroke=\"currentColor\" stroke-width=\"1\" transform=\"\"></path></svg><div class=\"_1FKkT _3Ao0A\" style=\"color: white; background-color: rgb(246, 145, 19);\">โค้ดลด ฿90</div><svg class=\"_2DRZW _2xFcL\" viewbox=\"-0.5 -0.5 4 16\"><path d=\"M4 0h-3q-1 0 -1 1a1.2 1.5 0 0 1 0 3v0.333a1.2 1.5 0 0 1 0 3v0.333a1.2 1.5 0 0 1 0 3v0.333a1.2 1.5 0 0 1 0 3q0 1 1 1h3\" fill=\"#f69113\" stroke=\"currentColor\" stroke-width=\"1\" transform=\"rotate(180) translate(-3 -15)\"></path></svg></div><div class=\"WQj5Si\">ซื้อ 2 ชิ้น ลด 10%</div></div></div>,\n",
       " <div class=\"dpiR4u\" data-sqe=\"name\"><div class=\"FDn--+\"><div class=\"ie3A+n bM+7UW Cve6sh\">ใส่ก็ผอม เสื้อกล้ามผู้ชาย (S-XXXL) รัดหน้าท้อง เก็บพุงโดยเฉพาะ ปรับระดับความกระชับได้ เสื้อกล้ามรัดหน้าท้องสำหรับผู้ชาย</div></div><div class=\"FD2XVZ\"><div class=\"WQj5Si\">ซื้อ 2 ชิ้น ลด 3%</div></div></div>,\n",
       " <div class=\"dpiR4u\" data-sqe=\"name\"><div class=\"FDn--+\"><div class=\"ie3A+n bM+7UW Cve6sh\">Morning พร้อมส่ง💖เสื้อยืด Grocery Basket Oversized Tee SML</div></div><div class=\"FD2XVZ\"><div class=\"_1PWkR nt-medium nt-foot _3nkRL\" style=\"color: rgb(246, 145, 19);\"><svg class=\"_2DRZW _2xFcL\" viewbox=\"-0.5 -0.5 4 16\"><path d=\"M4 0h-3q-1 0 -1 1a1.2 1.5 0 0 1 0 3v0.333a1.2 1.5 0 0 1 0 3v0.333a1.2 1.5 0 0 1 0 3v0.333a1.2 1.5 0 0 1 0 3q0 1 1 1h3\" fill=\"#f69113\" stroke=\"currentColor\" stroke-width=\"1\" transform=\"\"></path></svg><div class=\"_1FKkT _3Ao0A\" style=\"color: white; background-color: rgb(246, 145, 19);\">โค้ดลด ฿30</div><svg class=\"_2DRZW _2xFcL\" viewbox=\"-0.5 -0.5 4 16\"><path d=\"M4 0h-3q-1 0 -1 1a1.2 1.5 0 0 1 0 3v0.333a1.2 1.5 0 0 1 0 3v0.333a1.2 1.5 0 0 1 0 3v0.333a1.2 1.5 0 0 1 0 3q0 1 1 1h3\" fill=\"#f69113\" stroke=\"currentColor\" stroke-width=\"1\" transform=\"rotate(180) translate(-3 -15)\"></path></svg></div></div></div>,\n",
       " <div class=\"dpiR4u\" data-sqe=\"name\"><div class=\"FDn--+\"><div class=\"ie3A+n bM+7UW Cve6sh\">กางเกงวินเทจ 6 กระเป๋า MAFEAR (มีหลายสีให้เลือก)</div></div></div>,\n",
       " <div class=\"dpiR4u\" data-sqe=\"name\"><div class=\"FDn--+\"><div class=\"ie3A+n bM+7UW Cve6sh\">(ลูกค้าใหม่ 1 บาท) เสื้อ+กางเกงขาสั้น ผ้าเบา ไม่หด ไม่ย้วย เสื้อยืดคอกลมสีพื้น ชุดกีฬาผู้ชาย ชุด</div></div><div class=\"FD2XVZ\"><div class=\"WQj5Si\">ซื้อ 2 ชิ้น ลด ฿5</div></div></div>,\n",
       " <div class=\"dpiR4u\" data-sqe=\"name\"><div class=\"FDn--+\"><div class=\"ie3A+n bM+7UW Cve6sh\">🔥พร้อมส่ง🔥 เสื้อยืด เสื้อยืดสีพื้น เสื้อยืดคอกลม เสื้อผู้ชาย รุ่น ST01 ไซส์ M L XL XXL 3XL</div></div><div class=\"FD2XVZ\"><div class=\"_1PWkR nt-medium nt-foot _3nkRL\" style=\"color: rgb(246, 145, 19);\"><svg class=\"_2DRZW _2xFcL\" viewbox=\"-0.5 -0.5 4 16\"><path d=\"M4 0h-3q-1 0 -1 1a1.2 1.5 0 0 1 0 3v0.333a1.2 1.5 0 0 1 0 3v0.333a1.2 1.5 0 0 1 0 3v0.333a1.2 1.5 0 0 1 0 3q0 1 1 1h3\" fill=\"#f69113\" stroke=\"currentColor\" stroke-width=\"1\" transform=\"\"></path></svg><div class=\"_1FKkT _3Ao0A\" style=\"color: white; background-color: rgb(246, 145, 19);\">ส่วนลด 5%</div><svg class=\"_2DRZW _2xFcL\" viewbox=\"-0.5 -0.5 4 16\"><path d=\"M4 0h-3q-1 0 -1 1a1.2 1.5 0 0 1 0 3v0.333a1.2 1.5 0 0 1 0 3v0.333a1.2 1.5 0 0 1 0 3v0.333a1.2 1.5 0 0 1 0 3q0 1 1 1h3\" fill=\"#f69113\" stroke=\"currentColor\" stroke-width=\"1\" transform=\"rotate(180) translate(-3 -15)\"></path></svg></div><div class=\"djt+SZ\">ช้อปเพิ่มคุ้มกว่า</div></div></div>,\n",
       " <div class=\"dpiR4u\" data-sqe=\"name\"><div class=\"FDn--+\"><div class=\"ie3A+n bM+7UW Cve6sh\">FreFel T-Shirts Cotton100%เสื้อผ้าแฟชั่นผู้ชาย เสื้อยืด เสื้อยืดแขนสั้น รุ่น Ts-038</div></div></div>,\n",
       " <div class=\"dpiR4u\" data-sqe=\"name\"><div class=\"FDn--+\"><div class=\"ie3A+n bM+7UW Cve6sh\">ใส่โค้ด 615FASH150 ลด150 เสื้อเชิ้ตเกาหลี🌟 แขนยาว🌟 สีพื้น ผ้านิ่มนุ่ม เบา ใส่สบาย ไม่ต้องรีด ระบายความร้อนได้ยอดเยี่ยม</div></div><div class=\"FD2XVZ\"><div class=\"_1PWkR nt-medium nt-foot _3nkRL\" style=\"color: rgb(246, 145, 19);\"><svg class=\"_2DRZW _2xFcL\" viewbox=\"-0.5 -0.5 4 16\"><path d=\"M4 0h-3q-1 0 -1 1a1.2 1.5 0 0 1 0 3v0.333a1.2 1.5 0 0 1 0 3v0.333a1.2 1.5 0 0 1 0 3v0.333a1.2 1.5 0 0 1 0 3q0 1 1 1h3\" fill=\"#f69113\" stroke=\"currentColor\" stroke-width=\"1\" transform=\"\"></path></svg><div class=\"_1FKkT _3Ao0A\" style=\"color: white; background-color: rgb(246, 145, 19);\">โค้ดลด ฿20</div><svg class=\"_2DRZW _2xFcL\" viewbox=\"-0.5 -0.5 4 16\"><path d=\"M4 0h-3q-1 0 -1 1a1.2 1.5 0 0 1 0 3v0.333a1.2 1.5 0 0 1 0 3v0.333a1.2 1.5 0 0 1 0 3v0.333a1.2 1.5 0 0 1 0 3q0 1 1 1h3\" fill=\"#f69113\" stroke=\"currentColor\" stroke-width=\"1\" transform=\"rotate(180) translate(-3 -15)\"></path></svg></div></div></div>,\n",
       " <div class=\"dpiR4u\" data-sqe=\"name\"><div class=\"FDn--+\"><div class=\"ie3A+n bM+7UW Cve6sh\">ใส่โค้ด 615FASH150 ลด150 เสื้อเชิ้ตเกาหลี แขนสั้น สีพื้น ผ้านิ่มนุ่ม เบา ใส่สบาย ไม่ต้องรีด ระบายความร้อนได้ยอดเยี่ยม</div></div><div class=\"FD2XVZ\"><div class=\"NXWqiW\">฿108 | 7 ก.ค.,00:00</div></div></div>,\n",
       " <div class=\"dpiR4u\" data-sqe=\"name\"><div class=\"FDn--+\"><div class=\"ie3A+n bM+7UW Cve6sh\">กางเกงกีฬาลําลอง ทรงหลวม ขนาดใหญ่ สําหรับผู้ชาย และผู้หญิง</div></div><div class=\"FD2XVZ\"><div class=\"WQj5Si\">ซื้อ 2 ชิ้น ลด 2%</div></div></div>,\n",
       " <div class=\"dpiR4u\" data-sqe=\"name\"><div class=\"FDn--+\"><div class=\"ie3A+n bM+7UW Cve6sh\">เสื้อยืดชาย oversize คอกลม แขนสั้น</div></div><div class=\"FD2XVZ\"><div class=\"_1PWkR nt-medium nt-foot _3nkRL\" style=\"color: rgb(246, 145, 19);\"><svg class=\"_2DRZW _2xFcL\" viewbox=\"-0.5 -0.5 4 16\"><path d=\"M4 0h-3q-1 0 -1 1a1.2 1.5 0 0 1 0 3v0.333a1.2 1.5 0 0 1 0 3v0.333a1.2 1.5 0 0 1 0 3v0.333a1.2 1.5 0 0 1 0 3q0 1 1 1h3\" fill=\"#f69113\" stroke=\"currentColor\" stroke-width=\"1\" transform=\"\"></path></svg><div class=\"_1FKkT _3Ao0A\" style=\"color: white; background-color: rgb(246, 145, 19);\">ส่วนลด 50%</div><svg class=\"_2DRZW _2xFcL\" viewbox=\"-0.5 -0.5 4 16\"><path d=\"M4 0h-3q-1 0 -1 1a1.2 1.5 0 0 1 0 3v0.333a1.2 1.5 0 0 1 0 3v0.333a1.2 1.5 0 0 1 0 3v0.333a1.2 1.5 0 0 1 0 3q0 1 1 1h3\" fill=\"#f69113\" stroke=\"currentColor\" stroke-width=\"1\" transform=\"rotate(180) translate(-3 -15)\"></path></svg></div></div></div>,\n",
       " <div class=\"dpiR4u\" data-sqe=\"name\"><div class=\"FDn--+\"><div class=\"ie3A+n bM+7UW Cve6sh\">[M-4XL]กางเกงขากว้าง กางเกงขายาวชาย ทรงหลวม สำหรับผู้ชาย เกาหลี  #D88</div></div><div class=\"FD2XVZ\"><div class=\"_1PWkR nt-medium nt-foot _3nkRL\" style=\"color: rgb(246, 145, 19);\"><svg class=\"_2DRZW _2xFcL\" viewbox=\"-0.5 -0.5 4 16\"><path d=\"M4 0h-3q-1 0 -1 1a1.2 1.5 0 0 1 0 3v0.333a1.2 1.5 0 0 1 0 3v0.333a1.2 1.5 0 0 1 0 3v0.333a1.2 1.5 0 0 1 0 3q0 1 1 1h3\" fill=\"#f69113\" stroke=\"currentColor\" stroke-width=\"1\" transform=\"\"></path></svg><div class=\"_1FKkT _3Ao0A\" style=\"color: white; background-color: rgb(246, 145, 19);\">ส่วนลด 50%</div><svg class=\"_2DRZW _2xFcL\" viewbox=\"-0.5 -0.5 4 16\"><path d=\"M4 0h-3q-1 0 -1 1a1.2 1.5 0 0 1 0 3v0.333a1.2 1.5 0 0 1 0 3v0.333a1.2 1.5 0 0 1 0 3v0.333a1.2 1.5 0 0 1 0 3q0 1 1 1h3\" fill=\"#f69113\" stroke=\"currentColor\" stroke-width=\"1\" transform=\"rotate(180) translate(-3 -15)\"></path></svg></div></div></div>,\n",
       " <div class=\"dpiR4u\" data-sqe=\"name\"><div class=\"FDn--+\"><div class=\"ie3A+n bM+7UW Cve6sh\">ใส่โค้ด 615FASH150 ลด150 เสื้อเชิ้ต(คอจีน)ผ้านิ่มนุ่ม เบา ใส่สบาย ไม่ต้องรีด ระบายความร้อนได้ยอดเยี่ยม</div></div><div class=\"FD2XVZ\"><div class=\"_1PWkR nt-medium nt-foot _3nkRL\" style=\"color: rgb(246, 145, 19);\"><svg class=\"_2DRZW _2xFcL\" viewbox=\"-0.5 -0.5 4 16\"><path d=\"M4 0h-3q-1 0 -1 1a1.2 1.5 0 0 1 0 3v0.333a1.2 1.5 0 0 1 0 3v0.333a1.2 1.5 0 0 1 0 3v0.333a1.2 1.5 0 0 1 0 3q0 1 1 1h3\" fill=\"#f69113\" stroke=\"currentColor\" stroke-width=\"1\" transform=\"\"></path></svg><div class=\"_1FKkT _3Ao0A\" style=\"color: white; background-color: rgb(246, 145, 19);\">ส่วนลด 50%</div><svg class=\"_2DRZW _2xFcL\" viewbox=\"-0.5 -0.5 4 16\"><path d=\"M4 0h-3q-1 0 -1 1a1.2 1.5 0 0 1 0 3v0.333a1.2 1.5 0 0 1 0 3v0.333a1.2 1.5 0 0 1 0 3v0.333a1.2 1.5 0 0 1 0 3q0 1 1 1h3\" fill=\"#f69113\" stroke=\"currentColor\" stroke-width=\"1\" transform=\"rotate(180) translate(-3 -15)\"></path></svg></div></div></div>,\n",
       " <div class=\"dpiR4u\" data-sqe=\"name\"><div class=\"FDn--+\"><div class=\"ie3A+n bM+7UW Cve6sh\">🔥เสื้อโอเวอร์ไซส์🔥Oversize (รูปถ่ายสินค้าจริง) เสื้อยืดสีพื้น สไตล์เกาหลี หลากสี ชาย/หญิง ใส่ได้</div></div></div>,\n",
       " <div class=\"dpiR4u\" data-sqe=\"name\"><div class=\"FDn--+\"><div class=\"ie3A+n bM+7UW Cve6sh\">Cod กางเกงขายาวลําลอง ทรงหลวม พลัสไซซ์ สําหรับผู้ชาย ไซซ์ M-5XL</div></div></div>,\n",
       " <div class=\"dpiR4u\" data-sqe=\"name\"><div class=\"FDn--+\"><div class=\"ie3A+n bM+7UW Cve6sh\">TS MEN เสื้อยืดคอกลมแขนสั้น เสื้อยืดผู้ชาย(มี3สี)รุ่น 0091</div></div><div class=\"FD2XVZ\"><div class=\"_1PWkR nt-medium nt-foot _3nkRL\" style=\"color: rgb(246, 145, 19);\"><svg class=\"_2DRZW _2xFcL\" viewbox=\"-0.5 -0.5 4 16\"><path d=\"M4 0h-3q-1 0 -1 1a1.2 1.5 0 0 1 0 3v0.333a1.2 1.5 0 0 1 0 3v0.333a1.2 1.5 0 0 1 0 3v0.333a1.2 1.5 0 0 1 0 3q0 1 1 1h3\" fill=\"#f69113\" stroke=\"currentColor\" stroke-width=\"1\" transform=\"\"></path></svg><div class=\"_1FKkT _3Ao0A\" style=\"color: white; background-color: rgb(246, 145, 19);\">ส่วนลด 5%</div><svg class=\"_2DRZW _2xFcL\" viewbox=\"-0.5 -0.5 4 16\"><path d=\"M4 0h-3q-1 0 -1 1a1.2 1.5 0 0 1 0 3v0.333a1.2 1.5 0 0 1 0 3v0.333a1.2 1.5 0 0 1 0 3v0.333a1.2 1.5 0 0 1 0 3q0 1 1 1h3\" fill=\"#f69113\" stroke=\"currentColor\" stroke-width=\"1\" transform=\"rotate(180) translate(-3 -15)\"></path></svg></div></div></div>,\n",
       " <div class=\"dpiR4u\" data-sqe=\"name\"><div class=\"FDn--+\"><div class=\"ie3A+n bM+7UW Cve6sh\">กางเกงวินเทจ 6 กระเป๋า MAFEAR (มีหลายสีให้เลือก)</div></div></div>,\n",
       " <div class=\"dpiR4u\" data-sqe=\"name\"><div class=\"FDn--+\"><div class=\"ie3A+n bM+7UW Cve6sh\">FreFel เสื้อยืดชาย เสื้อผ้าแฟชั่นผู้ชาย oversize คอกลม แขนสั้น   T-Shirts Cotton100%  รุ่น Ts-014</div></div></div>,\n",
       " <div class=\"dpiR4u\" data-sqe=\"name\"><div class=\"FDn--+\"><div class=\"ie3A+n bM+7UW Cve6sh\">Fashion Casual Slacks Cropped Pants X201 กางเกงสแล็คชาย 5ส่วน สไตย์เกาหลี กางเกงขายาวชาย</div></div><div class=\"FD2XVZ\"><div class=\"_1PWkR nt-medium nt-foot _3nkRL\" style=\"color: rgb(246, 145, 19);\"><svg class=\"_2DRZW _2xFcL\" viewbox=\"-0.5 -0.5 4 16\"><path d=\"M4 0h-3q-1 0 -1 1a1.2 1.5 0 0 1 0 3v0.333a1.2 1.5 0 0 1 0 3v0.333a1.2 1.5 0 0 1 0 3v0.333a1.2 1.5 0 0 1 0 3q0 1 1 1h3\" fill=\"#f69113\" stroke=\"currentColor\" stroke-width=\"1\" transform=\"\"></path></svg><div class=\"_1FKkT _3Ao0A\" style=\"color: white; background-color: rgb(246, 145, 19);\">ส่วนลด 50%</div><svg class=\"_2DRZW _2xFcL\" viewbox=\"-0.5 -0.5 4 16\"><path d=\"M4 0h-3q-1 0 -1 1a1.2 1.5 0 0 1 0 3v0.333a1.2 1.5 0 0 1 0 3v0.333a1.2 1.5 0 0 1 0 3v0.333a1.2 1.5 0 0 1 0 3q0 1 1 1h3\" fill=\"#f69113\" stroke=\"currentColor\" stroke-width=\"1\" transform=\"rotate(180) translate(-3 -15)\"></path></svg></div></div></div>,\n",
       " <div class=\"dpiR4u\" data-sqe=\"name\"><div class=\"FDn--+\"><div class=\"ie3A+n bM+7UW Cve6sh\">เสื้อเชิ้ตแขนสั้นผู้ชาย TOBY SHORT SLEEVE - RALPH T OFFICIAL เสื้อเชิ้ตผู้ชาย เสื้อเชิ้ตผู้ชายแขนสั้น เสื้อเชิ้ตคอจีน</div></div><div class=\"FD2XVZ\"><div class=\"djt+SZ\">ช้อปเพิ่มคุ้มกว่า</div></div></div>,\n",
       " <div class=\"dpiR4u\" data-sqe=\"name\"><div class=\"FDn--+\"><div class=\"ie3A+n bM+7UW Cve6sh\">เสื้อยืดแขนสั้นคอกลมชายลายเท่ห์ๆสายแบดบอย(อ่านรายละเอียดก่อนสั่ง)</div></div></div>,\n",
       " <div class=\"dpiR4u\" data-sqe=\"name\"><div class=\"FDn--+\"><div class=\"ie3A+n bM+7UW Cve6sh\">เสื้อเชิ้ตแขนสั้น พิมพ์ลายกราฟฟิก ทรงหลวม สไตล์ฮาวาย สำหรับผู้ชาย 2022</div></div><div class=\"FD2XVZ\"><div class=\"djt+SZ\">ช้อปเพิ่มคุ้มกว่า</div></div></div>,\n",
       " <div class=\"dpiR4u\" data-sqe=\"name\"><div class=\"FDn--+\"><div class=\"ie3A+n bM+7UW Cve6sh\">【Flash Sale】M-4XL เสื้อยืด ลายเเมว แขนสั้น คอกลม สำหรับทุกเพศ 2 สี Summer Men Short Sleeve T-shirt Korean</div></div></div>,\n",
       " <div class=\"dpiR4u\" data-sqe=\"name\"><div class=\"FDn--+\"><div class=\"ie3A+n bM+7UW Cve6sh\">9FEBเสื้อยืดลายหมี  เสื้อผู้ชาย/ผู้หญิงใส่ได้ ผ้าCotton100%</div></div></div>,\n",
       " <div class=\"dpiR4u\" data-sqe=\"name\"><div class=\"FDn--+\"><div class=\"ie3A+n bM+7UW Cve6sh\">กางเกงขายาว สไตล์ญี่ปุ่น สไตล์โกธิค ✝️ไม้กางเขน✝️ กีฬา ขากว้าง เอวสูง ทรงหลวม สีดํา ฮิพฮอพ</div></div></div>,\n",
       " <div class=\"dpiR4u\" data-sqe=\"name\"><div class=\"FDn--+\"><div class=\"ie3A+n bM+7UW Cve6sh\">⚡️ พร้อมส่ง⚡️เสื้อทีเชิร์ตเสื้อยืดคอกลมแฟชั่น</div></div><div class=\"FD2XVZ\"><div class=\"_1PWkR nt-medium nt-foot _3nkRL\" style=\"color: rgb(246, 145, 19);\"><svg class=\"_2DRZW _2xFcL\" viewbox=\"-0.5 -0.5 4 16\"><path d=\"M4 0h-3q-1 0 -1 1a1.2 1.5 0 0 1 0 3v0.333a1.2 1.5 0 0 1 0 3v0.333a1.2 1.5 0 0 1 0 3v0.333a1.2 1.5 0 0 1 0 3q0 1 1 1h3\" fill=\"#f69113\" stroke=\"currentColor\" stroke-width=\"1\" transform=\"\"></path></svg><div class=\"_1FKkT _3Ao0A\" style=\"color: white; background-color: rgb(246, 145, 19);\">ส่วนลด 50%</div><svg class=\"_2DRZW _2xFcL\" viewbox=\"-0.5 -0.5 4 16\"><path d=\"M4 0h-3q-1 0 -1 1a1.2 1.5 0 0 1 0 3v0.333a1.2 1.5 0 0 1 0 3v0.333a1.2 1.5 0 0 1 0 3v0.333a1.2 1.5 0 0 1 0 3q0 1 1 1h3\" fill=\"#f69113\" stroke=\"currentColor\" stroke-width=\"1\" transform=\"rotate(180) translate(-3 -15)\"></path></svg></div></div></div>,\n",
       " <div class=\"dpiR4u\" data-sqe=\"name\"><div class=\"FDn--+\"><div class=\"ie3A+n bM+7UW Cve6sh\">(ลูกค้าใหม่ 1 บาท) เสื้อยืดสีพื้น เสื้อยืดผู้ชาย งานA เสื้อยืดคอกลมแขนสั้น</div></div><div class=\"FD2XVZ\"><div class=\"WQj5Si\">ซื้อ 2 ชิ้น ลด ฿5</div></div></div>,\n",
       " <div class=\"dpiR4u\" data-sqe=\"name\"><div class=\"FDn--+\"><div class=\"ie3A+n bM+7UW Cve6sh\">Korean Summer Plain Casual Slim Trend Black Shirt Men</div></div></div>,\n",
       " <div class=\"dpiR4u\" data-sqe=\"name\"><div class=\"FDn--+\"><div class=\"ie3A+n bM+7UW Cve6sh\">SUNDAY2020 🎀 เสื้อยืดลายทาง สไตล์หนุ่มเกาหลี 🐻‍❄️ตะมุตะมิเอาใจสาวมากจ้า มี 3 สีซอฟต์โทน ดูดีมากจ้า</div></div><div class=\"FD2XVZ\"><div class=\"_1PWkR nt-medium nt-foot _3nkRL\" style=\"color: rgb(246, 145, 19);\"><svg class=\"_2DRZW _2xFcL\" viewbox=\"-0.5 -0.5 4 16\"><path d=\"M4 0h-3q-1 0 -1 1a1.2 1.5 0 0 1 0 3v0.333a1.2 1.5 0 0 1 0 3v0.333a1.2 1.5 0 0 1 0 3v0.333a1.2 1.5 0 0 1 0 3q0 1 1 1h3\" fill=\"#f69113\" stroke=\"currentColor\" stroke-width=\"1\" transform=\"\"></path></svg><div class=\"_1FKkT _3Ao0A\" style=\"color: white; background-color: rgb(246, 145, 19);\">ส่วนลด 5%</div><svg class=\"_2DRZW _2xFcL\" viewbox=\"-0.5 -0.5 4 16\"><path d=\"M4 0h-3q-1 0 -1 1a1.2 1.5 0 0 1 0 3v0.333a1.2 1.5 0 0 1 0 3v0.333a1.2 1.5 0 0 1 0 3v0.333a1.2 1.5 0 0 1 0 3q0 1 1 1h3\" fill=\"#f69113\" stroke=\"currentColor\" stroke-width=\"1\" transform=\"rotate(180) translate(-3 -15)\"></path></svg></div></div></div>,\n",
       " <div class=\"dpiR4u\" data-sqe=\"name\"><div class=\"FDn--+\"><div class=\"ie3A+n bM+7UW Cve6sh\">TS MEN เสื้อยืดคอกลมแขนสั้น เสื้อยืดคอกลม ใส่ได้ทั้งหญิงทั้งชาย(มี7สี)รุ่น NTC23</div></div><div class=\"FD2XVZ\"><div class=\"_1PWkR nt-medium nt-foot _3nkRL\" style=\"color: rgb(246, 145, 19);\"><svg class=\"_2DRZW _2xFcL\" viewbox=\"-0.5 -0.5 4 16\"><path d=\"M4 0h-3q-1 0 -1 1a1.2 1.5 0 0 1 0 3v0.333a1.2 1.5 0 0 1 0 3v0.333a1.2 1.5 0 0 1 0 3v0.333a1.2 1.5 0 0 1 0 3q0 1 1 1h3\" fill=\"#f69113\" stroke=\"currentColor\" stroke-width=\"1\" transform=\"\"></path></svg><div class=\"_1FKkT _3Ao0A\" style=\"color: white; background-color: rgb(246, 145, 19);\">ส่วนลด 5%</div><svg class=\"_2DRZW _2xFcL\" viewbox=\"-0.5 -0.5 4 16\"><path d=\"M4 0h-3q-1 0 -1 1a1.2 1.5 0 0 1 0 3v0.333a1.2 1.5 0 0 1 0 3v0.333a1.2 1.5 0 0 1 0 3v0.333a1.2 1.5 0 0 1 0 3q0 1 1 1h3\" fill=\"#f69113\" stroke=\"currentColor\" stroke-width=\"1\" transform=\"rotate(180) translate(-3 -15)\"></path></svg></div></div></div>,\n",
       " <div class=\"dpiR4u\" data-sqe=\"name\"><div class=\"FDn--+\"><div class=\"ie3A+n bM+7UW Cve6sh\">เสื้อคอวีกระดุม 🔥🔥เสื้อยืดสีพื้น 💯✅✅📌</div></div><div class=\"FD2XVZ\"><div class=\"_1PWkR nt-medium nt-foot _3nkRL\" style=\"color: rgb(246, 145, 19);\"><svg class=\"_2DRZW _2xFcL\" viewbox=\"-0.5 -0.5 4 16\"><path d=\"M4 0h-3q-1 0 -1 1a1.2 1.5 0 0 1 0 3v0.333a1.2 1.5 0 0 1 0 3v0.333a1.2 1.5 0 0 1 0 3v0.333a1.2 1.5 0 0 1 0 3q0 1 1 1h3\" fill=\"#f69113\" stroke=\"currentColor\" stroke-width=\"1\" transform=\"\"></path></svg><div class=\"_1FKkT _3Ao0A\" style=\"color: white; background-color: rgb(246, 145, 19);\">ส่วนลด 5%</div><svg class=\"_2DRZW _2xFcL\" viewbox=\"-0.5 -0.5 4 16\"><path d=\"M4 0h-3q-1 0 -1 1a1.2 1.5 0 0 1 0 3v0.333a1.2 1.5 0 0 1 0 3v0.333a1.2 1.5 0 0 1 0 3v0.333a1.2 1.5 0 0 1 0 3q0 1 1 1h3\" fill=\"#f69113\" stroke=\"currentColor\" stroke-width=\"1\" transform=\"rotate(180) translate(-3 -15)\"></path></svg></div></div></div>,\n",
       " <div class=\"dpiR4u\" data-sqe=\"name\"><div class=\"FDn--+\"><div class=\"ie3A+n bM+7UW Cve6sh\">เสื้อยืดคอกลม แขนยาว สไตล์เกาหลี แฟชั่นสําหรับผู้ชาย</div></div></div>,\n",
       " <div class=\"dpiR4u\" data-sqe=\"name\"><div class=\"FDn--+\"><div class=\"ie3A+n bM+7UW Cve6sh\">เสื้อฮาวาย เสื้อเชิ้ต เชิ๊ตเกาหลี สินค้ามาใหม่ ผ้านิ่ม สไตล์เกาหลีมาแรง พร้อมส่ง Bay1</div></div><div class=\"FD2XVZ\"><div class=\"djt+SZ\">ช้อปเพิ่มคุ้มกว่า</div></div></div>,\n",
       " <div class=\"dpiR4u\" data-sqe=\"name\"><div class=\"FDn--+\"><div class=\"ie3A+n bM+7UW Cve6sh\">jafastore เสื้อเชิ้ตสีพื้นสไตล์เกาหลี 🇰🇷 เสื้อเชิ้ตผู้ชาย เชิ้ตสีพื้นมินิมอล</div></div><div class=\"FD2XVZ\"><div class=\"_1PWkR nt-medium nt-foot _3nkRL\" style=\"color: rgb(246, 145, 19);\"><svg class=\"_2DRZW _2xFcL\" viewbox=\"-0.5 -0.5 4 16\"><path d=\"M4 0h-3q-1 0 -1 1a1.2 1.5 0 0 1 0 3v0.333a1.2 1.5 0 0 1 0 3v0.333a1.2 1.5 0 0 1 0 3v0.333a1.2 1.5 0 0 1 0 3q0 1 1 1h3\" fill=\"#f69113\" stroke=\"currentColor\" stroke-width=\"1\" transform=\"\"></path></svg><div class=\"_1FKkT _3Ao0A\" style=\"color: white; background-color: rgb(246, 145, 19);\">ส่วนลด 50%</div><svg class=\"_2DRZW _2xFcL\" viewbox=\"-0.5 -0.5 4 16\"><path d=\"M4 0h-3q-1 0 -1 1a1.2 1.5 0 0 1 0 3v0.333a1.2 1.5 0 0 1 0 3v0.333a1.2 1.5 0 0 1 0 3v0.333a1.2 1.5 0 0 1 0 3q0 1 1 1h3\" fill=\"#f69113\" stroke=\"currentColor\" stroke-width=\"1\" transform=\"rotate(180) translate(-3 -15)\"></path></svg></div><div class=\"djt+SZ\">ช้อปเพิ่มคุ้มกว่า</div></div></div>,\n",
       " <div class=\"dpiR4u\" data-sqe=\"name\"><div class=\"FDn--+\"><div class=\"ie3A+n bM+7UW Cve6sh\">เสื้อเชิ้ตแขนสามส่วนผ้าฝ้ายและผ้าลินินแฟชั่นสําหรับผู้ชาย</div></div></div>,\n",
       " <div class=\"dpiR4u\" data-sqe=\"name\"><div class=\"FDn--+\"><div class=\"ie3A+n bM+7UW Cve6sh\">🔥พร้อมส่ง) //กางเกงเข้ารูปแบบเกาหลีกางเกงชายสีดำชุดลำลองกระแสฮิตสุภาพบุรุษกางเกงขายาวชุดลำลองกางเกงสูท</div></div><div class=\"FD2XVZ\"><div class=\"WQj5Si\">ซื้อ 2 ชิ้น ลด 1%</div></div></div>,\n",
       " <div class=\"dpiR4u\" data-sqe=\"name\"><div class=\"FDn--+\"><div class=\"ie3A+n bM+7UW Cve6sh\">(ลูกค้าใหม่ 1 บาท)เสื้อยืดสีพื้น เสื้อยืดผู้ชาย งานA เสื้อยืดคอกลมแขนสั้น</div></div><div class=\"FD2XVZ\"><div class=\"WQj5Si\">ซื้อ 2 ชิ้น ลด ฿5</div></div></div>,\n",
       " <div class=\"dpiR4u\" data-sqe=\"name\"><div class=\"FDn--+\"><div class=\"ie3A+n bM+7UW Cve6sh\">🔥🔥กางเกงขาสั้นเอวยืด brng brng 🔥🔥ใส่สบาย ราคาถูก ส่งไว มีบริการเก็บเงินปลายทางจ้ะ</div></div></div>,\n",
       " <div class=\"dpiR4u\" data-sqe=\"name\"><div class=\"FDn--+\"><div class=\"ie3A+n bM+7UW Cve6sh\">เสื้อยืดคอกลม - ผ้า cotton No.32</div></div><div class=\"FD2XVZ\"><div class=\"_1PWkR nt-medium nt-foot _3nkRL\" style=\"color: rgb(246, 145, 19);\"><svg class=\"_2DRZW _2xFcL\" viewbox=\"-0.5 -0.5 4 16\"><path d=\"M4 0h-3q-1 0 -1 1a1.2 1.5 0 0 1 0 3v0.333a1.2 1.5 0 0 1 0 3v0.333a1.2 1.5 0 0 1 0 3v0.333a1.2 1.5 0 0 1 0 3q0 1 1 1h3\" fill=\"#f69113\" stroke=\"currentColor\" stroke-width=\"1\" transform=\"\"></path></svg><div class=\"_1FKkT _3Ao0A\" style=\"color: white; background-color: rgb(246, 145, 19);\">ส่วนลด 50%</div><svg class=\"_2DRZW _2xFcL\" viewbox=\"-0.5 -0.5 4 16\"><path d=\"M4 0h-3q-1 0 -1 1a1.2 1.5 0 0 1 0 3v0.333a1.2 1.5 0 0 1 0 3v0.333a1.2 1.5 0 0 1 0 3v0.333a1.2 1.5 0 0 1 0 3q0 1 1 1h3\" fill=\"#f69113\" stroke=\"currentColor\" stroke-width=\"1\" transform=\"rotate(180) translate(-3 -15)\"></path></svg></div></div></div>,\n",
       " <div class=\"dpiR4u\" data-sqe=\"name\"><div class=\"FDn--+\"><div class=\"ie3A+n bM+7UW Cve6sh\">(ลูกค้าใหม่ 1 บาท) เสื้อยืดสีพื้น เสื้อยืดผู้ชาย งานA เสื้อยืดคอกลมแขนสั้น</div></div><div class=\"FD2XVZ\"><div class=\"WQj5Si\">ซื้อ 2 ชิ้น ลด ฿5</div></div></div>,\n",
       " <div class=\"dpiR4u\" data-sqe=\"name\"><div class=\"FDn--+\"><div class=\"ie3A+n bM+7UW Cve6sh\">Pants men's summer sports pants casual all-match long pants</div></div></div>,\n",
       " <div class=\"dpiR4u\" data-sqe=\"name\"><div class=\"FDn--+\"><div class=\"ie3A+n bM+7UW Cve6sh\">🔥COD🔥 เสื้อเชิ้ต แขนยาว สีพื้น ลายทางแนวตั้ง สไตล์วินเทจ เกาหลี สำหรับผู้ชาย ไซซ์ M-5XL</div></div></div>,\n",
       " <div class=\"dpiR4u\" data-sqe=\"name\"><div class=\"FDn--+\"><div class=\"ie3A+n bM+7UW Cve6sh\">เสื้อชุดผู้ชาย เสื้อผู้ชาย กางเกงขาสั้นผู้ชาย (เสื้อ+กางเกงขาสั้น) ดีไซน์เก๋ ขนาดมาตรฐาน（สีดำ สีขาว）TZ02</div></div><div class=\"FD2XVZ\"><div class=\"_1PWkR nt-medium nt-foot _3nkRL\" style=\"color: rgb(246, 145, 19);\"><svg class=\"_2DRZW _2xFcL\" viewbox=\"-0.5 -0.5 4 16\"><path d=\"M4 0h-3q-1 0 -1 1a1.2 1.5 0 0 1 0 3v0.333a1.2 1.5 0 0 1 0 3v0.333a1.2 1.5 0 0 1 0 3v0.333a1.2 1.5 0 0 1 0 3q0 1 1 1h3\" fill=\"#f69113\" stroke=\"currentColor\" stroke-width=\"1\" transform=\"\"></path></svg><div class=\"_1FKkT _3Ao0A\" style=\"color: white; background-color: rgb(246, 145, 19);\">ส่วนลด 5%</div><svg class=\"_2DRZW _2xFcL\" viewbox=\"-0.5 -0.5 4 16\"><path d=\"M4 0h-3q-1 0 -1 1a1.2 1.5 0 0 1 0 3v0.333a1.2 1.5 0 0 1 0 3v0.333a1.2 1.5 0 0 1 0 3v0.333a1.2 1.5 0 0 1 0 3q0 1 1 1h3\" fill=\"#f69113\" stroke=\"currentColor\" stroke-width=\"1\" transform=\"rotate(180) translate(-3 -15)\"></path></svg></div></div></div>,\n",
       " <div class=\"dpiR4u\" data-sqe=\"name\"><div class=\"FDn--+\"><div class=\"ie3A+n bM+7UW Cve6sh\">เสื้อแจ็คเก็ตแขนยาวทรงหลวมวินเทจสีดําสไตล์เกาหลีแฟชั่นฤดูร้อนสําหรับผู้ชาย</div></div></div>,\n",
       " <div class=\"dpiR4u\" data-sqe=\"name\"><div class=\"FDn--+\"><div class=\"ie3A+n bM+7UW Cve6sh\">กางเกงขายาวลำลอง ทรงสลิมฟิต สไตล์เกาหลี สำหรับผู้ชาย</div></div></div>,\n",
       " <div class=\"dpiR4u\" data-sqe=\"name\"><div class=\"FDn--+\"><div class=\"ie3A+n bM+7UW Cve6sh\">กางเกงขายาวลําลองสไตล์เกาหลีสําหรับผู้ชาย M - 5 Xl</div></div></div>,\n",
       " <div class=\"dpiR4u\" data-sqe=\"name\"><div class=\"FDn--+\"><div class=\"ie3A+n bM+7UW Cve6sh\">เสื้อฮาวาย Freesize เสื้อเชิ้ตใส่สบาย 🏝</div></div><div class=\"FD2XVZ\"><div class=\"djt+SZ\">ช้อปเพิ่มคุ้มกว่า</div></div></div>,\n",
       " <div class=\"dpiR4u\" data-sqe=\"name\"><div class=\"FDn--+\"><div class=\"ie3A+n bM+7UW Cve6sh\">เสื้อผ้าแฟชั่น โปเกมอน Gengar เสื้อโอเวอร์ไซส์ผู้ชาย กราฟฟิตี อนิเมะ คุณภาพดี 4XL 5XL</div></div><div class=\"FD2XVZ\"><div class=\"WQj5Si\">ซื้อ 2 ชิ้น ลด 2%</div></div></div>,\n",
       " <div class=\"dpiR4u\" data-sqe=\"name\"><div class=\"FDn--+\"><div class=\"ie3A+n bM+7UW Cve6sh\">กางเกงขายาวลำลอง ทรงหลวม สำหรับผู้ชาย ไซซ์ S-5XL</div></div><div class=\"FD2XVZ\"><div class=\"_1PWkR nt-medium nt-foot _3nkRL\" style=\"color: rgb(246, 145, 19);\"><svg class=\"_2DRZW _2xFcL\" viewbox=\"-0.5 -0.5 4 16\"><path d=\"M4 0h-3q-1 0 -1 1a1.2 1.5 0 0 1 0 3v0.333a1.2 1.5 0 0 1 0 3v0.333a1.2 1.5 0 0 1 0 3v0.333a1.2 1.5 0 0 1 0 3q0 1 1 1h3\" fill=\"#f69113\" stroke=\"currentColor\" stroke-width=\"1\" transform=\"\"></path></svg><div class=\"_1FKkT _3Ao0A\" style=\"color: white; background-color: rgb(246, 145, 19);\">ส่วนลด 10%</div><svg class=\"_2DRZW _2xFcL\" viewbox=\"-0.5 -0.5 4 16\"><path d=\"M4 0h-3q-1 0 -1 1a1.2 1.5 0 0 1 0 3v0.333a1.2 1.5 0 0 1 0 3v0.333a1.2 1.5 0 0 1 0 3v0.333a1.2 1.5 0 0 1 0 3q0 1 1 1h3\" fill=\"#f69113\" stroke=\"currentColor\" stroke-width=\"1\" transform=\"rotate(180) translate(-3 -15)\"></path></svg></div><div class=\"WQj5Si\">ซื้อ 3 ชิ้น ลด 5%</div></div></div>,\n",
       " <div class=\"dpiR4u\" data-sqe=\"name\"><div class=\"FDn--+\"><div class=\"ie3A+n bM+7UW Cve6sh\">เสื้อยืดแขนสั้นลําลอง พิมพ์ลายตัวอักษร แฟชั่นฤดูร้อน สําหรับผู้ชาย 2021\n",
       " </div></div></div>,\n",
       " <div class=\"dpiR4u\" data-sqe=\"name\"><div class=\"FDn--+\"><div class=\"ie3A+n bM+7UW Cve6sh\">MAXXI[28-40]กางเกงขากว้าง สำหรับผู้ชาย กางเกงเกาหลี กางเกงขายาว ผ้าสปันเนื้อนิ่ม ใส่สบาย#A501</div></div><div class=\"FD2XVZ\"><div class=\"_1PWkR nt-medium nt-foot _3nkRL\" style=\"color: rgb(246, 145, 19);\"><svg class=\"_2DRZW _2xFcL\" viewbox=\"-0.5 -0.5 4 16\"><path d=\"M4 0h-3q-1 0 -1 1a1.2 1.5 0 0 1 0 3v0.333a1.2 1.5 0 0 1 0 3v0.333a1.2 1.5 0 0 1 0 3v0.333a1.2 1.5 0 0 1 0 3q0 1 1 1h3\" fill=\"#f69113\" stroke=\"currentColor\" stroke-width=\"1\" transform=\"\"></path></svg><div class=\"_1FKkT _3Ao0A\" style=\"color: white; background-color: rgb(246, 145, 19);\">ส่วนลด 5%</div><svg class=\"_2DRZW _2xFcL\" viewbox=\"-0.5 -0.5 4 16\"><path d=\"M4 0h-3q-1 0 -1 1a1.2 1.5 0 0 1 0 3v0.333a1.2 1.5 0 0 1 0 3v0.333a1.2 1.5 0 0 1 0 3v0.333a1.2 1.5 0 0 1 0 3q0 1 1 1h3\" fill=\"#f69113\" stroke=\"currentColor\" stroke-width=\"1\" transform=\"rotate(180) translate(-3 -15)\"></path></svg></div></div></div>,\n",
       " <div class=\"dpiR4u\" data-sqe=\"name\"><div class=\"FDn--+\"><div class=\"ie3A+n bM+7UW Cve6sh\">EP เสื้อคอจีน เสื้อเชิ้ตคอจีน เสื้อคอจีนผู้ชาย ❗️oversize❗️รุ่นไม่มีกระดุม มินิมอล</div></div><div class=\"FD2XVZ\"><div class=\"INFECd\" style=\"color: rgb(208, 1, 27);\">แบรนด์แท้ถูกชัวร์</div><div class=\"djt+SZ\">ช้อปเพิ่มคุ้มกว่า</div></div></div>,\n",
       " <div class=\"dpiR4u\" data-sqe=\"name\"><div class=\"FDn--+\"><div class=\"ie3A+n bM+7UW Cve6sh\">T0028 ใหม่2020ยอดฮิต เสื้อผ้าคุณผู้หญิงและคุณผู้ชาย เสื้อยืดคอกลมแฟชั่นunisex เสื้อแขนสั้นใส่ได้ทั้งผู้หญิงแ</div></div></div>,\n",
       " <div class=\"dpiR4u\" data-sqe=\"name\"><div class=\"FDn--+\"><div class=\"ie3A+n bM+7UW Cve6sh\">มี15สีJAFASTORE เสื้อยืดคอกลม🇰🇷 เสื้อยืดโอเวอร์ไซส์ผู้ชาย เสื้อสไตล์เกาหลี</div></div><div class=\"FD2XVZ\"><div class=\"_1PWkR nt-medium nt-foot _3nkRL\" style=\"color: rgb(246, 145, 19);\"><svg class=\"_2DRZW _2xFcL\" viewbox=\"-0.5 -0.5 4 16\"><path d=\"M4 0h-3q-1 0 -1 1a1.2 1.5 0 0 1 0 3v0.333a1.2 1.5 0 0 1 0 3v0.333a1.2 1.5 0 0 1 0 3v0.333a1.2 1.5 0 0 1 0 3q0 1 1 1h3\" fill=\"#f69113\" stroke=\"currentColor\" stroke-width=\"1\" transform=\"\"></path></svg><div class=\"_1FKkT _3Ao0A\" style=\"color: white; background-color: rgb(246, 145, 19);\">ส่วนลด 50%</div><svg class=\"_2DRZW _2xFcL\" viewbox=\"-0.5 -0.5 4 16\"><path d=\"M4 0h-3q-1 0 -1 1a1.2 1.5 0 0 1 0 3v0.333a1.2 1.5 0 0 1 0 3v0.333a1.2 1.5 0 0 1 0 3v0.333a1.2 1.5 0 0 1 0 3q0 1 1 1h3\" fill=\"#f69113\" stroke=\"currentColor\" stroke-width=\"1\" transform=\"rotate(180) translate(-3 -15)\"></path></svg></div><div class=\"djt+SZ\">ช้อปเพิ่มคุ้มกว่า</div></div></div>,\n",
       " <div class=\"dpiR4u\" data-sqe=\"name\"><div class=\"FDn--+\"><div class=\"ie3A+n bM+7UW Cve6sh\">พร้อมส่ง🔥 กางเกงขาสั้นชาย 🔥 กางเกงคาร์โก้ กางเกงขาสั้นฤดูร้อน ผ้าดี สีไม่ตก ระบายอากาศได้ กางเกงยุทธวิธี</div></div><div class=\"FD2XVZ\"><div class=\"_1PWkR nt-medium nt-foot _3nkRL\" style=\"color: rgb(246, 145, 19);\"><svg class=\"_2DRZW _2xFcL\" viewbox=\"-0.5 -0.5 4 16\"><path d=\"M4 0h-3q-1 0 -1 1a1.2 1.5 0 0 1 0 3v0.333a1.2 1.5 0 0 1 0 3v0.333a1.2 1.5 0 0 1 0 3v0.333a1.2 1.5 0 0 1 0 3q0 1 1 1h3\" fill=\"#f69113\" stroke=\"currentColor\" stroke-width=\"1\" transform=\"\"></path></svg><div class=\"_1FKkT _3Ao0A\" style=\"color: white; background-color: rgb(246, 145, 19);\">ส่วนลด 5%</div><svg class=\"_2DRZW _2xFcL\" viewbox=\"-0.5 -0.5 4 16\"><path d=\"M4 0h-3q-1 0 -1 1a1.2 1.5 0 0 1 0 3v0.333a1.2 1.5 0 0 1 0 3v0.333a1.2 1.5 0 0 1 0 3v0.333a1.2 1.5 0 0 1 0 3q0 1 1 1h3\" fill=\"#f69113\" stroke=\"currentColor\" stroke-width=\"1\" transform=\"rotate(180) translate(-3 -15)\"></path></svg></div><div class=\"djt+SZ\">รับสินค้าฟรี</div></div></div>,\n",
       " <div class=\"dpiR4u\" data-sqe=\"name\"><div class=\"FDn--+\"><div class=\"ie3A+n bM+7UW Cve6sh\">เสื้อผ้าเด็กฤดูร้อนฤดูร้อนเวอร์ชั่นเกาหลีเหมาะกับเด็กวาฟเฟิลแขนสั้นสองชิ้นชุดลำลองสำหรับเด็กผู้ชายชุดสูทเด็กผู้หญิง</div></div></div>,\n",
       " <div class=\"dpiR4u\" data-sqe=\"name\"><div class=\"FDn--+\"><div class=\"ie3A+n bM+7UW Cve6sh\">เสื้อผ้าเด็ก 2021 ฤดูร้อนเด็กใหม่ชุดเสื้อกั๊กชั้นผ้าฝ้ายเด็กหญิงบ้านเสื้อผ้าชายเสื้อผ้าฤดูร้อน</div></div></div>,\n",
       " <div class=\"dpiR4u\" data-sqe=\"name\"><div class=\"FDn--+\"><div class=\"ie3A+n bM+7UW Cve6sh\">[เสื้อผ้าผู้ชาย แบบไม่เต็มใจ] เสื้อยืดแขนกุด ทรงหลวม สไตล์ฮิปฮอป ยุโรป อเมริกัน สตรีท ไซซ์ M-8XL [69]</div></div></div>,\n",
       " <div class=\"dpiR4u\" data-sqe=\"name\"><div class=\"FDn--+\"><div class=\"ie3A+n bM+7UW Cve6sh\">เสื้อลายแฟชั่นใบไม้ฟ้า</div></div></div>]"
      ]
     },
     "execution_count": 23,
     "metadata": {},
     "output_type": "execute_result"
    }
   ],
   "source": [
    "fourth_test=soup.find_all('div',{'class':'dpiR4u'})\n",
    "fourth_test"
   ]
  },
  {
   "cell_type": "code",
   "execution_count": null,
   "id": "9ddb24dd-4ca0-4eb0-b5ba-69b7ac698bcd",
   "metadata": {},
   "outputs": [],
   "source": []
  }
 ],
 "metadata": {
  "kernelspec": {
   "display_name": "Python 3 (ipykernel)",
   "language": "python",
   "name": "python3"
  },
  "language_info": {
   "codemirror_mode": {
    "name": "ipython",
    "version": 3
   },
   "file_extension": ".py",
   "mimetype": "text/x-python",
   "name": "python",
   "nbconvert_exporter": "python",
   "pygments_lexer": "ipython3",
   "version": "3.9.12"
  }
 },
 "nbformat": 4,
 "nbformat_minor": 5
}
