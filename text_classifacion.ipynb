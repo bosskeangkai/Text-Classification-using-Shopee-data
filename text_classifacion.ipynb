{
 "cells": [
  {
   "cell_type": "markdown",
   "id": "c1d1f7ef-27f0-4115-ba75-f1a9e002839c",
   "metadata": {},
   "source": [
    "#### Import raw data "
   ]
  },
  {
   "cell_type": "code",
   "execution_count": null,
   "id": "ef97f11c-dcbe-4883-b836-d36f34ef70de",
   "metadata": {},
   "outputs": [],
   "source": [
    "import pandas as pd\n",
    "import numpy as np \n",
    "import matplotlib.pyplot as plt \n"
   ]
  }
 ],
 "metadata": {
  "kernelspec": {
   "display_name": "Python 3 (ipykernel)",
   "language": "python",
   "name": "python3"
  },
  "language_info": {
   "codemirror_mode": {
    "name": "ipython",
    "version": 3
   },
   "file_extension": ".py",
   "mimetype": "text/x-python",
   "name": "python",
   "nbconvert_exporter": "python",
   "pygments_lexer": "ipython3",
   "version": "3.9.12"
  }
 },
 "nbformat": 4,
 "nbformat_minor": 5
}
